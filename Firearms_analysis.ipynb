{
 "cells": [
  {
   "cell_type": "markdown",
   "metadata": {},
   "source": [
    "# The National Instant Criminal Check System: Investigating FBI's Official Data\n",
    "\n",
    "## Table of Contents\n",
    "- [Introduction to NICS And This Project](#intro)\n",
    "    - [About this Project](#about)\n",
    "- [Data Wrangling and Cleaning](#dat)\n",
    "- [Raising Questions](#quest)\n",
    "- [Exploratory Analysis](#explore)\n",
    "    - [Statistical Testing](#tests)\n",
    "- [Conclusion](#conclusion)"
   ]
  },
  {
   "cell_type": "markdown",
   "metadata": {},
   "source": [
    "<a id='intro'></a>\n",
    "## Introduction to NICS And This Project\n",
    "\n",
    "In 1993, the Federal Government passed the Brady Handgun Violence Prevention Act. Mandated and supported by this law, in 1998, the National Instant Criminal Check System was developed as a means provided to gun shops and weapon providers to autonomously check the background data of a customer and decide if he/she is legible to receive a purchased firearm. It was an innovative system that is still active and records every detail of a weapon transaction.\n",
    "\n",
    "The NICS system was also designed to have easy communication facilities with law enforcement authorities like the FBI. A shop owner or a registered provider could immediately go through the background history of a purchaser and if found anything suspicious, could contact the agency concerned. Thereafter, appropriate action could be taken in immediate possible time. This way, the law passed in 1993 and the NICS developed in 1998 give shop owners and providers a legal framework and room to individually prevent illegible arms purchases that was not possible before.\n",
    "\n",
    "The data that this report explores is available at [github](https://github.com/BuzzFeedNews/nics-firearm-background-checks/blob/master/README.md) and can also be explored (PDF) at FBI's official website. Here, we'll be exploring two of their data files namely `gun_data.xlsx` and `U.S_census_data.csv`. While one is a .xlsx (excel) file, the latter is a comma separated (.csv) file. The `gun_data.xlsx` data is a much larger file with several variables and thousands of rows. According to sources, this data 'contains the number of firearms checks by month, state and type'. The latter census data contains several variables per state and this is purely for the 2016 data.\n",
    "\n",
    "Several estimates and studies have already been conducted through these dataset. Around 700,000 such transactions have been denied since 1998 till December of 2017 as one of the estimates stated. However, discrepancies are bound to exist within these numbers and the data itself. As several research organizations have noted, differing state laws of weapons regulations and the federal laws come in clash with each other at least when data is to be recorded and hence one cannot fully trust the extracts and findings that reports so far have been able to find out. As the _The Trace_ pointed out, there were several 'caveats' in the data itself. Almost 40% of respondents acquired their firearms without any background check due to several reasons. Despite such discrepancies, the NICS data is considered to be the most accurate when it comes to firearms background check and suspicious criminal activity. For example, the state of California recorded many loopholes during data recording primarily because of several firearm purchases going unnoticed by the system (or in other words, the data was inconsistent). Besides, permit and background checks and were also excluded."
   ]
  },
  {
   "cell_type": "markdown",
   "metadata": {},
   "source": [
    "<a id='about'></a>\n",
    "### About this Project\n",
    "\n",
    "In whatsoever the circumstances, proper estimates and data exploration can still be carried out. In statistical reporting, most of the content comments on the data exploration and statistical results and states conclusions thereon. Statistics is thus mostly about data exploration and how one reproduces its results in an intuitive manner.\n",
    "\n",
    "The `firearms_analysis` prsented here will be a similar effort as the one found in part I of our nanodegree course where students had to explore the bike dataset.\n",
    "\n",
    "The methodology will be kept simple. First, the data will be loaded and some preliminary exploration performed; these will include some basic statistical exploration and if required, some basic visual exploration as well (although I'm keeping that part as a separate section). Wherever appropriate a statistical test will be carried out, so expect this report to be a long document. A brief look of the datasets will prompt anyone that variable names are unclear of what they are trying to present and hence some 'name cleaning' will be undertaken wherever necessary. If found necessary, some detailed statistical exploration will too follow. Next up will be the visualizations section with histograms and bar graphs making the exploration clearer; here we'll dive into visualizing the mean, median and similar such values for the concerned datasets. Perhaps, some boxplots too will be of help here. Since the data showcases the distribution of weapons across states, there will be an effort to reproduce a geographical visualization of the arms' distribution (although that could be out of my scope for now). Let's begin with loading the appropirate libraries and then exploratory analysis!"
   ]
  },
  {
   "cell_type": "markdown",
   "metadata": {},
   "source": [
    "<a id = 'dat'></a>\n",
    "## Data Wrangling and Cleaning\n",
    "\n",
    "The first chapter of any statistical report, here we load all the required packages to the Python environment and store the data files. Later, we conduct some cleaning process of our existing data frames and make new datasets from the existing ones wherever felt appropriate. So let's proceed."
   ]
  },
  {
   "cell_type": "code",
   "execution_count": 1,
   "metadata": {},
   "outputs": [
    {
     "name": "stderr",
     "output_type": "stream",
     "text": [
      "/Users/Shiv/anaconda3/lib/python3.6/site-packages/ggplot/utils.py:81: FutureWarning: pandas.tslib is deprecated and will be removed in a future version.\n",
      "You can access Timestamp as pandas.Timestamp\n",
      "  pd.tslib.Timestamp,\n",
      "/Users/Shiv/anaconda3/lib/python3.6/site-packages/ggplot/stats/smoothers.py:4: FutureWarning: The pandas.lib module is deprecated and will be removed in a future version. These are private functions and can be accessed from pandas._libs.lib instead\n",
      "  from pandas.lib import Timestamp\n",
      "/Users/Shiv/anaconda3/lib/python3.6/site-packages/statsmodels/compat/pandas.py:56: FutureWarning: The pandas.core.datetools module is deprecated and will be removed in a future version. Please use the pandas.tseries module instead.\n",
      "  from pandas.core import datetools\n"
     ]
    }
   ],
   "source": [
    "# Loading libraries\n",
    "import os # For printing contents of our directory\n",
    "import numpy as np\n",
    "import pandas as pd\n",
    "import statistics as st\n",
    "import matplotlib.pyplot as pyplt\n",
    "import seaborn as sb\n",
    "import bokeh as bk # In case we visualize an interactive plot.\n",
    "from IPython.display import display\n",
    "from ggplot import * # Another nice library\n",
    "from beakerx import * # An excellent way to display data frames other than the traditional output.\n",
    "import scipy.stats as stat\n",
    "from sklearn import preprocessing # For normalizing functions\n",
    "from statsmodels.stats import weightstats as wtests\n",
    "\n",
    "beakerx.pandas_display_default() # Turned on default display because of some results not printing on \n",
    "                                 # github (beta stage).\n",
    "\n",
    "# Please do note that thee packages were loaded specifically under Python 3.6.4 with the latest\n",
    "# numpy and pandas libraries to avoid any unncessary errors (like I received during the initial development\n",
    "# of this notebook).\n",
    "\n",
    "# Also please ignore the warnings since they have hardly afected the overall\n",
    "# analysis presented here. Tried supressing them with the traditional\n",
    "# method but some commands here won't work without them which is strange."
   ]
  },
  {
   "cell_type": "markdown",
   "metadata": {},
   "source": [
    "Good. Now that we have the appropriate libraries updated and installed, let's now proceed with loading the datasets and getting a brief look of them."
   ]
  },
  {
   "cell_type": "code",
   "execution_count": 2,
   "metadata": {},
   "outputs": [
    {
     "name": "stdout",
     "output_type": "stream",
     "text": [
      "     month       state   permit  permit_recheck  handgun  long_gun   other  \\\n",
      "0  2017-09     Alabama  16717.0             0.0   5734.0    6320.0   221.0   \n",
      "1  2017-09      Alaska    209.0             2.0   2320.0    2930.0   219.0   \n",
      "2  2017-09     Arizona   5069.0           382.0  11063.0    7946.0   920.0   \n",
      "3  2017-09    Arkansas   2935.0           632.0   4347.0    6063.0   165.0   \n",
      "4  2017-09  California  57839.0             0.0  37165.0   24581.0  2984.0   \n",
      "\n",
      "   multiple  admin  prepawn_handgun   ...    returned_other  rentals_handgun  \\\n",
      "0       317    0.0             15.0   ...               0.0              0.0   \n",
      "1       160    0.0              5.0   ...               0.0              0.0   \n",
      "2       631    0.0             13.0   ...               0.0              0.0   \n",
      "3       366   51.0             12.0   ...               0.0              0.0   \n",
      "4         0    0.0              0.0   ...               0.0              0.0   \n",
      "\n",
      "   rentals_long_gun  private_sale_handgun  private_sale_long_gun  \\\n",
      "0               0.0                   9.0                   16.0   \n",
      "1               0.0                  17.0                   24.0   \n",
      "2               0.0                  38.0                   12.0   \n",
      "3               0.0                  13.0                   23.0   \n",
      "4               0.0                   0.0                    0.0   \n",
      "\n",
      "   private_sale_other  return_to_seller_handgun  return_to_seller_long_gun  \\\n",
      "0                 3.0                       0.0                        0.0   \n",
      "1                 1.0                       0.0                        0.0   \n",
      "2                 2.0                       0.0                        0.0   \n",
      "3                 0.0                       0.0                        2.0   \n",
      "4                 0.0                       0.0                        0.0   \n",
      "\n",
      "   return_to_seller_other  totals  \n",
      "0                     3.0   32019  \n",
      "1                     0.0    6303  \n",
      "2                     0.0   28394  \n",
      "3                     1.0   17747  \n",
      "4                     0.0  123506  \n",
      "\n",
      "[5 rows x 27 columns]\n",
      "                                                Fact Fact Note    Alabama  \\\n",
      "0       Population estimates, July 1, 2016,  (V2016)       NaN  4,863,300   \n",
      "1  Population estimates base, April 1, 2010,  (V2...       NaN  4,780,131   \n",
      "2  Population, percent change - April 1, 2010 (es...       NaN      1.70%   \n",
      "3                  Population, Census, April 1, 2010       NaN  4,779,736   \n",
      "4  Persons under 5 years, percent, July 1, 2016, ...       NaN      6.00%   \n",
      "\n",
      "    Alaska    Arizona   Arkansas  California   Colorado Connecticut Delaware  \\\n",
      "0  741,894  6,931,071  2,988,248  39,250,017  5,540,545   3,576,452  952,065   \n",
      "1  710,249  6,392,301  2,916,025  37,254,522  5,029,324   3,574,114  897,936   \n",
      "2    4.50%      8.40%      2.50%       5.40%     10.20%       0.10%    6.00%   \n",
      "3  710,231  6,392,017  2,915,918  37,253,956  5,029,196   3,574,097  897,934   \n",
      "4    7.30%      6.30%      6.40%       6.30%      6.10%       5.20%    5.80%   \n",
      "\n",
      "    ...    South Dakota Tennessee       Texas       Utah  Vermont   Virginia  \\\n",
      "0   ...          865454   6651194  27,862,596  3,051,217  624,594  8,411,808   \n",
      "1   ...          814195   6346298  25,146,100  2,763,888  625,741  8,001,041   \n",
      "2   ...           0.063     0.048      10.80%     10.40%   -0.20%      5.10%   \n",
      "3   ...          814180   6346105  25,145,561  2,763,885  625,741  8,001,024   \n",
      "4   ...           0.071     0.061       7.20%      8.30%    4.90%      6.10%   \n",
      "\n",
      "  Washington West Virginia  Wisconsin  Wyoming  \n",
      "0  7,288,000     1,831,102  5,778,708  585,501  \n",
      "1  6,724,545     1,853,011  5,687,289  563,767  \n",
      "2      8.40%        -1.20%      1.60%    3.90%  \n",
      "3  6,724,540     1,852,994  5,686,986  563,626  \n",
      "4      6.20%         5.50%      5.80%    6.50%  \n",
      "\n",
      "[5 rows x 52 columns]\n"
     ]
    }
   ],
   "source": [
    "# Loading the datasets\n",
    "os.listdir()\n",
    "\n",
    "gun_data = pd.read_excel('gun_data.xlsx')\n",
    "census = pd.read_csv('U.S. Census Data.csv')\n",
    "\n",
    "# print some first observations of these tables\n",
    "print(gun_data.head())\n",
    "print(census.head())"
   ]
  },
  {
   "cell_type": "markdown",
   "metadata": {},
   "source": [
    "That looks very tedious. How about printing only the column names first to make sense of what the data presents?"
   ]
  },
  {
   "cell_type": "code",
   "execution_count": 3,
   "metadata": {},
   "outputs": [
    {
     "data": {
      "text/plain": [
       "['month',\n",
       " 'state',\n",
       " 'permit',\n",
       " 'permit_recheck',\n",
       " 'handgun',\n",
       " 'long_gun',\n",
       " 'other',\n",
       " 'multiple',\n",
       " 'admin',\n",
       " 'prepawn_handgun',\n",
       " 'prepawn_long_gun',\n",
       " 'prepawn_other',\n",
       " 'redemption_handgun',\n",
       " 'redemption_long_gun',\n",
       " 'redemption_other',\n",
       " 'returned_handgun',\n",
       " 'returned_long_gun',\n",
       " 'returned_other',\n",
       " 'rentals_handgun',\n",
       " 'rentals_long_gun',\n",
       " 'private_sale_handgun',\n",
       " 'private_sale_long_gun',\n",
       " 'private_sale_other',\n",
       " 'return_to_seller_handgun',\n",
       " 'return_to_seller_long_gun',\n",
       " 'return_to_seller_other',\n",
       " 'totals']"
      ]
     },
     "execution_count": 3,
     "metadata": {},
     "output_type": "execute_result"
    }
   ],
   "source": [
    "list(gun_data)"
   ]
  },
  {
   "cell_type": "markdown",
   "metadata": {},
   "source": [
    "Excellent! So that gives a clear picture of our `gun_data` data frame. Do a similar thing for the `census` data as well."
   ]
  },
  {
   "cell_type": "code",
   "execution_count": 4,
   "metadata": {},
   "outputs": [
    {
     "data": {
      "text/plain": [
       "['Fact',\n",
       " 'Fact Note',\n",
       " 'Alabama',\n",
       " 'Alaska',\n",
       " 'Arizona',\n",
       " 'Arkansas',\n",
       " 'California',\n",
       " 'Colorado',\n",
       " 'Connecticut',\n",
       " 'Delaware',\n",
       " 'Florida',\n",
       " 'Georgia',\n",
       " 'Hawaii',\n",
       " 'Idaho',\n",
       " 'Illinois',\n",
       " 'Indiana',\n",
       " 'Iowa',\n",
       " 'Kansas',\n",
       " 'Kentucky',\n",
       " 'Louisiana',\n",
       " 'Maine',\n",
       " 'Maryland',\n",
       " 'Massachusetts',\n",
       " 'Michigan',\n",
       " 'Minnesota',\n",
       " 'Mississippi',\n",
       " 'Missouri',\n",
       " 'Montana',\n",
       " 'Nebraska',\n",
       " 'Nevada',\n",
       " 'New Hampshire',\n",
       " 'New Jersey',\n",
       " 'New Mexico',\n",
       " 'New York',\n",
       " 'North Carolina',\n",
       " 'North Dakota',\n",
       " 'Ohio',\n",
       " 'Oklahoma',\n",
       " 'Oregon',\n",
       " 'Pennsylvania',\n",
       " 'Rhode Island',\n",
       " 'South Carolina',\n",
       " 'South Dakota',\n",
       " 'Tennessee',\n",
       " 'Texas',\n",
       " 'Utah',\n",
       " 'Vermont',\n",
       " 'Virginia',\n",
       " 'Washington',\n",
       " 'West Virginia',\n",
       " 'Wisconsin',\n",
       " 'Wyoming']"
      ]
     },
     "execution_count": 4,
     "metadata": {},
     "output_type": "execute_result"
    }
   ],
   "source": [
    "list(census)"
   ]
  },
  {
   "cell_type": "markdown",
   "metadata": {},
   "source": [
    "Splendid. So that now we have a clear outline of the datasets, let's proceed with which of these columns are important for our survey. For now, the census data looks mysterious so I'll have to dig some more into that and get a sense of what it is trying to portray.\n",
    "\n",
    "For checking out detailed observations regarding these datasets, it is highly recommended to use a fully functional IDE like Spyder or Rodeo. I personally use Spyder since it has been a favourite for data researchers for a very long time now and comes inbuilt with Anaconda. And its data frame editor is something to really like since it provides the user an Excel-like functionality with full features for cell and column editing. For viewing large data frames, Spyder's data viewer is an excellent tool at hand.\n",
    "\n",
    "Here on a notebook, viewing large data frames can become extremely tedious especially when there can be several inputs like the ones found in the `census` data. For such rows and observations, we can individually call commands on specific columns to get a clearer picture of our data. However, even that can make a notebook tedious and unnecessarily long. In such cases, having an IDE becomes necessary.\n",
    "\n",
    "For getting a sense of what these two data frames portray, I'll list down only some of the columns that I have personally found to be important for our report. For example, much of the `census` data portrays population statistics for the 55 states of the United States. Do we require those figures here? Perhaps when we need to establish some relationships between firearm ownership/purchases with population statistics. Like asking the question on weapon usage and ethnic distribution. Do some ethnicities associate themselves more with firearm transactions? If so, then how can we conclude on such results. Does being a white culturally amount to a more pronounced sense of weapon ownership or is this associated with another ethnic group? These are questions that can of course be answered but we'll leave them for a later section here.\n",
    "\n",
    "For now, let's explore into some details of `census` and `gun_data`."
   ]
  },
  {
   "cell_type": "code",
   "execution_count": 5,
   "metadata": {},
   "outputs": [
    {
     "data": {
      "text/plain": [
       "0          Population estimates, July 1, 2016,  (V2016)\n",
       "1     Population estimates base, April 1, 2010,  (V2...\n",
       "2     Population, percent change - April 1, 2010 (es...\n",
       "3                     Population, Census, April 1, 2010\n",
       "4     Persons under 5 years, percent, July 1, 2016, ...\n",
       "5         Persons under 5 years, percent, April 1, 2010\n",
       "6     Persons under 18 years, percent, July 1, 2016,...\n",
       "7        Persons under 18 years, percent, April 1, 2010\n",
       "8     Persons 65 years and over, percent,  July 1, 2...\n",
       "9     Persons 65 years and over, percent, April 1, 2010\n",
       "10     Female persons, percent,  July 1, 2016,  (V2016)\n",
       "11               Female persons, percent, April 1, 2010\n",
       "12         White alone, percent, July 1, 2016,  (V2016)\n",
       "13    Black or African American alone, percent, July...\n",
       "14    American Indian and Alaska Native alone, perce...\n",
       "15         Asian alone, percent, July 1, 2016,  (V2016)\n",
       "16    Native Hawaiian and Other Pacific Islander alo...\n",
       "17    Two or More Races, percent, July 1, 2016,  (V2...\n",
       "18    Hispanic or Latino, percent, July 1, 2016,  (V...\n",
       "19    White alone, not Hispanic or Latino, percent, ...\n",
       "20                                  Veterans, 2011-2015\n",
       "21             Foreign born persons, percent, 2011-2015\n",
       "22               Housing units,  July 1, 2016,  (V2016)\n",
       "23                         Housing units, April 1, 2010\n",
       "24          Owner-occupied housing unit rate, 2011-2015\n",
       "25    Median value of owner-occupied housing units, ...\n",
       "26    Median selected monthly owner costs -with a mo...\n",
       "27    Median selected monthly owner costs -without a...\n",
       "28                         Median gross rent, 2011-2015\n",
       "29                               Building permits, 2016\n",
       "                            ...                        \n",
       "55                                      All firms, 2012\n",
       "56                                Men-owned firms, 2012\n",
       "57                              Women-owned firms, 2012\n",
       "58                           Minority-owned firms, 2012\n",
       "59                        Nonminority-owned firms, 2012\n",
       "60                            Veteran-owned firms, 2012\n",
       "61                         Nonveteran-owned firms, 2012\n",
       "62                     Population per square mile, 2010\n",
       "63                      Land area in square miles, 2010\n",
       "64                                            FIPS Code\n",
       "65                                                  NaN\n",
       "66    NOTE: FIPS Code values are enclosed in quotes ...\n",
       "67                                                  NaN\n",
       "68                                          Value Notes\n",
       "69                                                    1\n",
       "70                                                  NaN\n",
       "71                                           Fact Notes\n",
       "72                                                  (a)\n",
       "73                                                  (b)\n",
       "74                                                  (c)\n",
       "75                                                  NaN\n",
       "76                                          Value Flags\n",
       "77                                                    -\n",
       "78                                                    D\n",
       "79                                                    F\n",
       "80                                                   FN\n",
       "81                                                  NaN\n",
       "82                                                    S\n",
       "83                                                    X\n",
       "84                                                    Z\n",
       "Name: Fact, Length: 85, dtype: object"
      ]
     },
     "execution_count": 5,
     "metadata": {},
     "output_type": "execute_result"
    }
   ],
   "source": [
    "# Display only selected rows of these data frames.\n",
    "\n",
    "census['Fact']"
   ]
  },
  {
   "cell_type": "markdown",
   "metadata": {},
   "source": [
    "As you can see, we have 64 'facts' that the `census` data lists down. Contrary to contemporary data frames that we often come across, here, its the individual rows that are listing down facts rather than columns. All in all, the `census` data records these facts for all the 55 states row-wise. That is, each column is dedicated to a state. However, the `census` data seems to be of secondary importance here since it doesn't list down facts concerned with anything NICS. Perhaps we'll come back to this later.\n",
    "\n",
    "Let's explore some columns for `gun_data` now. If we look back at the beginning of this section, we see that almost every column is of value for us. However, there are things that need attention. For example, the same `gun_data` available in [PDF](https://www.fbi.gov/file-repository/nics_firearm_checks_-_month_year_by_state_type.pdf/view) notes down some interesting details at the end of each page. For example, browsing through the PDF, the **notes** section lists down these details:\n",
    "- The 'Others' column found throughout the data refers to \"frames, receivers and other frames that are not either handguns or long guns (rifles or shotguns), such as firearms having a pistol grip tat expel a shotgun shell.\". That is, these include parts of several weapons but not whole weapons.\n",
    "- We have the `Multiple` column that lists down purchases of multiple weapons.\n",
    "\n",
    "Here, the most important point to note is this (written under 'DISCLAIMER'):\n",
    ">\"These statistics represent the number of firearm background checks initiated through the NICS. They do not represent the number of firearms sold. Based on varying state laws and purchase scenarios, a one-to-one correlation cannot be made between a firearm background check and a firearm sale.\"\n",
    "\n",
    "**So what we are dealing here is mostly a background check and their recorded numbers instead of the total sales recorded. And hence, the** `Total` **column is more about the 'total background checks' made instead of total transactions.**\n",
    "\n",
    "That is an important point since we can now shift our attention to exploring the background check system instead of weapon sales that many might think of in the beginning. Whether these background checks are a good source of estimating the sales is a complex question and what several other sources suggest, that it is not because of differing state laws and discrepancies in data when it comes to recording the real sales.\n",
    "\n",
    "This prompts us to ask new questions, such as, what is the general trend of the weapons check since 1998? Is this general trend a seasonal trend and has it been increasing since its inception? We cannot extract correct results when it comes to estimating weapon sales but we can surely comment if there is an increasing/decreasing trend in the sales as well by generalising the data.\n",
    "\n",
    "Now, there's one noteworthy point that we forgot to mention. The PDF version shows the data with its columns coloured. This was interesting and helped me in filtering out the data in my mind. For example, the first 5 columns (excluding the `index`, `month` and `state` columns) of `gun_data` relate to the permit checks recorded till 2017 and these have been coloured in yellow. Similarly, columns 8,9 and 10 relate to the pre-pawn section and columns 19-21 record private sales separately under sub-columns for handguns, long guns and others. This is helpful since it will allow me to stratify appropriately the main data frame `gun_data` into sub-data frames thus categorising the data. So let's proceed with this simple step.\n",
    "\n",
    "In the following code cells, we're going to execute the following steps:\n",
    "1. Form subsets of the original dataset by the appropriate category.\n",
    "2. Fill in these datasets with zeros wherever there are NaNs present.\n",
    "3. With the numerical addition of these datasets complete, add a 'Total' column for each of these datasets to display the sum of the each of the rows.\n",
    "\n",
    "So let's begin with the first step."
   ]
  },
  {
   "cell_type": "code",
   "execution_count": 6,
   "metadata": {
    "scrolled": true
   },
   "outputs": [],
   "source": [
    "# Stratifying the data and converting required columns to numeric.\n",
    "\n",
    "permit_data = gun_data.iloc[:,[0, 1, 2, 3, 4, 5, 6, 7, 8]]\n",
    "\n",
    "# We also add a 'Total' column for each of the datasetin the next section.\n",
    "# Display columns names for further operations on them.\n",
    "# Please be patient while these frames load.\n",
    "\n",
    "pre_pawn = gun_data.iloc[:,[0, 1, 9, 10, 11]]\n",
    "\n",
    "redemption = gun_data.iloc[:,[0, 1, 12, 13, 14]]\n",
    "\n",
    "returned = gun_data.iloc[:,[0, 1, 15, 16, 17]]\n",
    "\n",
    "rentals = gun_data.iloc[:,[0, 1, 18, 19]]\n",
    "\n",
    "pvt_sales = gun_data.iloc[:,[0, 1, 20, 21, 22]]\n",
    "\n",
    "ret_to_seller = gun_data.iloc[:,[0, 1, 23, 24, 25]]\n"
   ]
  },
  {
   "cell_type": "code",
   "execution_count": 7,
   "metadata": {},
   "outputs": [],
   "source": [
    "# Fill every dataset's incomplete values with zeros.\n",
    "\n",
    "permit_data = permit_data.fillna(0)\n",
    "\n",
    "pre_pawn = pre_pawn.fillna(0)\n",
    "\n",
    "returned = returned.fillna(0)\n",
    "\n",
    "rentals = rentals.fillna(0)\n",
    "\n",
    "pvt_sales = pvt_sales.fillna(0)\n",
    "\n",
    "ret_to_seller = ret_to_seller.fillna(0)"
   ]
  },
  {
   "cell_type": "code",
   "execution_count": 8,
   "metadata": {},
   "outputs": [
    {
     "name": "stderr",
     "output_type": "stream",
     "text": [
      "/Users/Shiv/anaconda3/lib/python3.6/site-packages/ipykernel/__main__.py:8: SettingWithCopyWarning: \n",
      "A value is trying to be set on a copy of a slice from a DataFrame.\n",
      "Try using .loc[row_indexer,col_indexer] = value instead\n",
      "\n",
      "See the caveats in the documentation: http://pandas.pydata.org/pandas-docs/stable/indexing.html#indexing-view-versus-copy\n"
     ]
    }
   ],
   "source": [
    "# Time to add a 'Total' column for each of the data frames above (except gun_data that already has one).\n",
    "permit_data['Total'] = permit_data.permit + permit_data.permit_recheck + permit_data.handgun + permit_data.long_gun + permit_data.other + permit_data.multiple + permit_data.admin\n",
    "\n",
    "\n",
    "pre_pawn['Total'] = pre_pawn.prepawn_handgun + pre_pawn.prepawn_long_gun + pre_pawn.prepawn_other\n",
    "\n",
    "\n",
    "redemption['Total'] = redemption.redemption_handgun + redemption.redemption_long_gun + redemption.redemption_other\n",
    "\n",
    "\n",
    "returned['Total'] = returned.returned_handgun + returned.returned_long_gun + returned.returned_other\n",
    "\n",
    "\n",
    "rentals['Total'] = rentals.rentals_handgun + rentals.rentals_long_gun\n",
    "\n",
    "\n",
    "pvt_sales['Total'] = pvt_sales.private_sale_handgun + pvt_sales.private_sale_long_gun + pvt_sales.private_sale_other\n",
    "\n",
    "\n",
    "ret_to_seller['Total'] = ret_to_seller.return_to_seller_handgun + ret_to_seller.return_to_seller_long_gun + ret_to_seller.return_to_seller_other"
   ]
  },
  {
   "cell_type": "code",
   "execution_count": 9,
   "metadata": {},
   "outputs": [
    {
     "data": {
      "text/html": [
       "<div>\n",
       "<style scoped>\n",
       "    .dataframe tbody tr th:only-of-type {\n",
       "        vertical-align: middle;\n",
       "    }\n",
       "\n",
       "    .dataframe tbody tr th {\n",
       "        vertical-align: top;\n",
       "    }\n",
       "\n",
       "    .dataframe thead th {\n",
       "        text-align: right;\n",
       "    }\n",
       "</style>\n",
       "<table border=\"1\" class=\"dataframe\">\n",
       "  <thead>\n",
       "    <tr style=\"text-align: right;\">\n",
       "      <th></th>\n",
       "      <th>month</th>\n",
       "      <th>state</th>\n",
       "      <th>permit</th>\n",
       "      <th>permit_recheck</th>\n",
       "      <th>handgun</th>\n",
       "      <th>long_gun</th>\n",
       "      <th>other</th>\n",
       "      <th>multiple</th>\n",
       "      <th>admin</th>\n",
       "      <th>Total</th>\n",
       "    </tr>\n",
       "  </thead>\n",
       "  <tbody>\n",
       "    <tr>\n",
       "      <th>0</th>\n",
       "      <td>2017-09</td>\n",
       "      <td>Alabama</td>\n",
       "      <td>16717.0</td>\n",
       "      <td>0.0</td>\n",
       "      <td>5734.0</td>\n",
       "      <td>6320.0</td>\n",
       "      <td>221.0</td>\n",
       "      <td>317</td>\n",
       "      <td>0.0</td>\n",
       "      <td>29309.0</td>\n",
       "    </tr>\n",
       "    <tr>\n",
       "      <th>1</th>\n",
       "      <td>2017-09</td>\n",
       "      <td>Alaska</td>\n",
       "      <td>209.0</td>\n",
       "      <td>2.0</td>\n",
       "      <td>2320.0</td>\n",
       "      <td>2930.0</td>\n",
       "      <td>219.0</td>\n",
       "      <td>160</td>\n",
       "      <td>0.0</td>\n",
       "      <td>5840.0</td>\n",
       "    </tr>\n",
       "    <tr>\n",
       "      <th>2</th>\n",
       "      <td>2017-09</td>\n",
       "      <td>Arizona</td>\n",
       "      <td>5069.0</td>\n",
       "      <td>382.0</td>\n",
       "      <td>11063.0</td>\n",
       "      <td>7946.0</td>\n",
       "      <td>920.0</td>\n",
       "      <td>631</td>\n",
       "      <td>0.0</td>\n",
       "      <td>26011.0</td>\n",
       "    </tr>\n",
       "    <tr>\n",
       "      <th>3</th>\n",
       "      <td>2017-09</td>\n",
       "      <td>Arkansas</td>\n",
       "      <td>2935.0</td>\n",
       "      <td>632.0</td>\n",
       "      <td>4347.0</td>\n",
       "      <td>6063.0</td>\n",
       "      <td>165.0</td>\n",
       "      <td>366</td>\n",
       "      <td>51.0</td>\n",
       "      <td>14559.0</td>\n",
       "    </tr>\n",
       "    <tr>\n",
       "      <th>4</th>\n",
       "      <td>2017-09</td>\n",
       "      <td>California</td>\n",
       "      <td>57839.0</td>\n",
       "      <td>0.0</td>\n",
       "      <td>37165.0</td>\n",
       "      <td>24581.0</td>\n",
       "      <td>2984.0</td>\n",
       "      <td>0</td>\n",
       "      <td>0.0</td>\n",
       "      <td>122569.0</td>\n",
       "    </tr>\n",
       "  </tbody>\n",
       "</table>\n",
       "</div>"
      ],
      "text/plain": [
       "     month       state   permit  permit_recheck  handgun  long_gun   other  \\\n",
       "0  2017-09     Alabama  16717.0             0.0   5734.0    6320.0   221.0   \n",
       "1  2017-09      Alaska    209.0             2.0   2320.0    2930.0   219.0   \n",
       "2  2017-09     Arizona   5069.0           382.0  11063.0    7946.0   920.0   \n",
       "3  2017-09    Arkansas   2935.0           632.0   4347.0    6063.0   165.0   \n",
       "4  2017-09  California  57839.0             0.0  37165.0   24581.0  2984.0   \n",
       "\n",
       "   multiple  admin     Total  \n",
       "0       317    0.0   29309.0  \n",
       "1       160    0.0    5840.0  \n",
       "2       631    0.0   26011.0  \n",
       "3       366   51.0   14559.0  \n",
       "4         0    0.0  122569.0  "
      ]
     },
     "metadata": {},
     "output_type": "display_data"
    },
    {
     "data": {
      "text/html": [
       "<div>\n",
       "<style scoped>\n",
       "    .dataframe tbody tr th:only-of-type {\n",
       "        vertical-align: middle;\n",
       "    }\n",
       "\n",
       "    .dataframe tbody tr th {\n",
       "        vertical-align: top;\n",
       "    }\n",
       "\n",
       "    .dataframe thead th {\n",
       "        text-align: right;\n",
       "    }\n",
       "</style>\n",
       "<table border=\"1\" class=\"dataframe\">\n",
       "  <thead>\n",
       "    <tr style=\"text-align: right;\">\n",
       "      <th></th>\n",
       "      <th>month</th>\n",
       "      <th>state</th>\n",
       "      <th>permit</th>\n",
       "      <th>permit_recheck</th>\n",
       "      <th>handgun</th>\n",
       "      <th>long_gun</th>\n",
       "      <th>other</th>\n",
       "      <th>multiple</th>\n",
       "      <th>admin</th>\n",
       "      <th>Total</th>\n",
       "    </tr>\n",
       "  </thead>\n",
       "  <tbody>\n",
       "    <tr>\n",
       "      <th>12480</th>\n",
       "      <td>1998-11</td>\n",
       "      <td>Virginia</td>\n",
       "      <td>0.0</td>\n",
       "      <td>0.0</td>\n",
       "      <td>14.0</td>\n",
       "      <td>2.0</td>\n",
       "      <td>0.0</td>\n",
       "      <td>8</td>\n",
       "      <td>0.0</td>\n",
       "      <td>24.0</td>\n",
       "    </tr>\n",
       "    <tr>\n",
       "      <th>12481</th>\n",
       "      <td>1998-11</td>\n",
       "      <td>Washington</td>\n",
       "      <td>1.0</td>\n",
       "      <td>0.0</td>\n",
       "      <td>65.0</td>\n",
       "      <td>286.0</td>\n",
       "      <td>0.0</td>\n",
       "      <td>8</td>\n",
       "      <td>1.0</td>\n",
       "      <td>361.0</td>\n",
       "    </tr>\n",
       "    <tr>\n",
       "      <th>12482</th>\n",
       "      <td>1998-11</td>\n",
       "      <td>West Virginia</td>\n",
       "      <td>3.0</td>\n",
       "      <td>0.0</td>\n",
       "      <td>149.0</td>\n",
       "      <td>251.0</td>\n",
       "      <td>0.0</td>\n",
       "      <td>5</td>\n",
       "      <td>0.0</td>\n",
       "      <td>408.0</td>\n",
       "    </tr>\n",
       "    <tr>\n",
       "      <th>12483</th>\n",
       "      <td>1998-11</td>\n",
       "      <td>Wisconsin</td>\n",
       "      <td>0.0</td>\n",
       "      <td>0.0</td>\n",
       "      <td>25.0</td>\n",
       "      <td>214.0</td>\n",
       "      <td>0.0</td>\n",
       "      <td>2</td>\n",
       "      <td>0.0</td>\n",
       "      <td>241.0</td>\n",
       "    </tr>\n",
       "    <tr>\n",
       "      <th>12484</th>\n",
       "      <td>1998-11</td>\n",
       "      <td>Wyoming</td>\n",
       "      <td>8.0</td>\n",
       "      <td>0.0</td>\n",
       "      <td>45.0</td>\n",
       "      <td>49.0</td>\n",
       "      <td>0.0</td>\n",
       "      <td>5</td>\n",
       "      <td>0.0</td>\n",
       "      <td>107.0</td>\n",
       "    </tr>\n",
       "  </tbody>\n",
       "</table>\n",
       "</div>"
      ],
      "text/plain": [
       "         month          state  permit  permit_recheck  handgun  long_gun  \\\n",
       "12480  1998-11       Virginia     0.0             0.0     14.0       2.0   \n",
       "12481  1998-11     Washington     1.0             0.0     65.0     286.0   \n",
       "12482  1998-11  West Virginia     3.0             0.0    149.0     251.0   \n",
       "12483  1998-11      Wisconsin     0.0             0.0     25.0     214.0   \n",
       "12484  1998-11        Wyoming     8.0             0.0     45.0      49.0   \n",
       "\n",
       "       other  multiple  admin  Total  \n",
       "12480    0.0         8    0.0   24.0  \n",
       "12481    0.0         8    1.0  361.0  \n",
       "12482    0.0         5    0.0  408.0  \n",
       "12483    0.0         2    0.0  241.0  \n",
       "12484    0.0         5    0.0  107.0  "
      ]
     },
     "metadata": {},
     "output_type": "display_data"
    },
    {
     "data": {
      "text/html": [
       "<div>\n",
       "<style scoped>\n",
       "    .dataframe tbody tr th:only-of-type {\n",
       "        vertical-align: middle;\n",
       "    }\n",
       "\n",
       "    .dataframe tbody tr th {\n",
       "        vertical-align: top;\n",
       "    }\n",
       "\n",
       "    .dataframe thead th {\n",
       "        text-align: right;\n",
       "    }\n",
       "</style>\n",
       "<table border=\"1\" class=\"dataframe\">\n",
       "  <thead>\n",
       "    <tr style=\"text-align: right;\">\n",
       "      <th></th>\n",
       "      <th>month</th>\n",
       "      <th>state</th>\n",
       "      <th>prepawn_handgun</th>\n",
       "      <th>prepawn_long_gun</th>\n",
       "      <th>prepawn_other</th>\n",
       "      <th>Total</th>\n",
       "    </tr>\n",
       "  </thead>\n",
       "  <tbody>\n",
       "    <tr>\n",
       "      <th>0</th>\n",
       "      <td>2017-09</td>\n",
       "      <td>Alabama</td>\n",
       "      <td>15.0</td>\n",
       "      <td>21.0</td>\n",
       "      <td>2.0</td>\n",
       "      <td>38.0</td>\n",
       "    </tr>\n",
       "    <tr>\n",
       "      <th>1</th>\n",
       "      <td>2017-09</td>\n",
       "      <td>Alaska</td>\n",
       "      <td>5.0</td>\n",
       "      <td>2.0</td>\n",
       "      <td>0.0</td>\n",
       "      <td>7.0</td>\n",
       "    </tr>\n",
       "    <tr>\n",
       "      <th>2</th>\n",
       "      <td>2017-09</td>\n",
       "      <td>Arizona</td>\n",
       "      <td>13.0</td>\n",
       "      <td>6.0</td>\n",
       "      <td>0.0</td>\n",
       "      <td>19.0</td>\n",
       "    </tr>\n",
       "    <tr>\n",
       "      <th>3</th>\n",
       "      <td>2017-09</td>\n",
       "      <td>Arkansas</td>\n",
       "      <td>12.0</td>\n",
       "      <td>13.0</td>\n",
       "      <td>0.0</td>\n",
       "      <td>25.0</td>\n",
       "    </tr>\n",
       "    <tr>\n",
       "      <th>4</th>\n",
       "      <td>2017-09</td>\n",
       "      <td>California</td>\n",
       "      <td>0.0</td>\n",
       "      <td>0.0</td>\n",
       "      <td>0.0</td>\n",
       "      <td>0.0</td>\n",
       "    </tr>\n",
       "  </tbody>\n",
       "</table>\n",
       "</div>"
      ],
      "text/plain": [
       "     month       state  prepawn_handgun  prepawn_long_gun  prepawn_other  \\\n",
       "0  2017-09     Alabama             15.0              21.0            2.0   \n",
       "1  2017-09      Alaska              5.0               2.0            0.0   \n",
       "2  2017-09     Arizona             13.0               6.0            0.0   \n",
       "3  2017-09    Arkansas             12.0              13.0            0.0   \n",
       "4  2017-09  California              0.0               0.0            0.0   \n",
       "\n",
       "   Total  \n",
       "0   38.0  \n",
       "1    7.0  \n",
       "2   19.0  \n",
       "3   25.0  \n",
       "4    0.0  "
      ]
     },
     "metadata": {},
     "output_type": "display_data"
    },
    {
     "data": {
      "text/html": [
       "<div>\n",
       "<style scoped>\n",
       "    .dataframe tbody tr th:only-of-type {\n",
       "        vertical-align: middle;\n",
       "    }\n",
       "\n",
       "    .dataframe tbody tr th {\n",
       "        vertical-align: top;\n",
       "    }\n",
       "\n",
       "    .dataframe thead th {\n",
       "        text-align: right;\n",
       "    }\n",
       "</style>\n",
       "<table border=\"1\" class=\"dataframe\">\n",
       "  <thead>\n",
       "    <tr style=\"text-align: right;\">\n",
       "      <th></th>\n",
       "      <th>month</th>\n",
       "      <th>state</th>\n",
       "      <th>returned_handgun</th>\n",
       "      <th>returned_long_gun</th>\n",
       "      <th>returned_other</th>\n",
       "      <th>Total</th>\n",
       "    </tr>\n",
       "  </thead>\n",
       "  <tbody>\n",
       "    <tr>\n",
       "      <th>0</th>\n",
       "      <td>2017-09</td>\n",
       "      <td>Alabama</td>\n",
       "      <td>0.0</td>\n",
       "      <td>0.0</td>\n",
       "      <td>0.0</td>\n",
       "      <td>0.0</td>\n",
       "    </tr>\n",
       "    <tr>\n",
       "      <th>1</th>\n",
       "      <td>2017-09</td>\n",
       "      <td>Alaska</td>\n",
       "      <td>28.0</td>\n",
       "      <td>30.0</td>\n",
       "      <td>0.0</td>\n",
       "      <td>58.0</td>\n",
       "    </tr>\n",
       "    <tr>\n",
       "      <th>2</th>\n",
       "      <td>2017-09</td>\n",
       "      <td>Arizona</td>\n",
       "      <td>82.0</td>\n",
       "      <td>5.0</td>\n",
       "      <td>0.0</td>\n",
       "      <td>87.0</td>\n",
       "    </tr>\n",
       "    <tr>\n",
       "      <th>3</th>\n",
       "      <td>2017-09</td>\n",
       "      <td>Arkansas</td>\n",
       "      <td>0.0</td>\n",
       "      <td>0.0</td>\n",
       "      <td>0.0</td>\n",
       "      <td>0.0</td>\n",
       "    </tr>\n",
       "    <tr>\n",
       "      <th>4</th>\n",
       "      <td>2017-09</td>\n",
       "      <td>California</td>\n",
       "      <td>0.0</td>\n",
       "      <td>0.0</td>\n",
       "      <td>0.0</td>\n",
       "      <td>0.0</td>\n",
       "    </tr>\n",
       "  </tbody>\n",
       "</table>\n",
       "</div>"
      ],
      "text/plain": [
       "     month       state  returned_handgun  returned_long_gun  returned_other  \\\n",
       "0  2017-09     Alabama               0.0                0.0             0.0   \n",
       "1  2017-09      Alaska              28.0               30.0             0.0   \n",
       "2  2017-09     Arizona              82.0                5.0             0.0   \n",
       "3  2017-09    Arkansas               0.0                0.0             0.0   \n",
       "4  2017-09  California               0.0                0.0             0.0   \n",
       "\n",
       "   Total  \n",
       "0    0.0  \n",
       "1   58.0  \n",
       "2   87.0  \n",
       "3    0.0  \n",
       "4    0.0  "
      ]
     },
     "metadata": {},
     "output_type": "display_data"
    },
    {
     "data": {
      "text/html": [
       "<div>\n",
       "<style scoped>\n",
       "    .dataframe tbody tr th:only-of-type {\n",
       "        vertical-align: middle;\n",
       "    }\n",
       "\n",
       "    .dataframe tbody tr th {\n",
       "        vertical-align: top;\n",
       "    }\n",
       "\n",
       "    .dataframe thead th {\n",
       "        text-align: right;\n",
       "    }\n",
       "</style>\n",
       "<table border=\"1\" class=\"dataframe\">\n",
       "  <thead>\n",
       "    <tr style=\"text-align: right;\">\n",
       "      <th></th>\n",
       "      <th>month</th>\n",
       "      <th>state</th>\n",
       "      <th>rentals_handgun</th>\n",
       "      <th>rentals_long_gun</th>\n",
       "      <th>Total</th>\n",
       "    </tr>\n",
       "  </thead>\n",
       "  <tbody>\n",
       "    <tr>\n",
       "      <th>0</th>\n",
       "      <td>2017-09</td>\n",
       "      <td>Alabama</td>\n",
       "      <td>0.0</td>\n",
       "      <td>0.0</td>\n",
       "      <td>0.0</td>\n",
       "    </tr>\n",
       "    <tr>\n",
       "      <th>1</th>\n",
       "      <td>2017-09</td>\n",
       "      <td>Alaska</td>\n",
       "      <td>0.0</td>\n",
       "      <td>0.0</td>\n",
       "      <td>0.0</td>\n",
       "    </tr>\n",
       "    <tr>\n",
       "      <th>2</th>\n",
       "      <td>2017-09</td>\n",
       "      <td>Arizona</td>\n",
       "      <td>0.0</td>\n",
       "      <td>0.0</td>\n",
       "      <td>0.0</td>\n",
       "    </tr>\n",
       "    <tr>\n",
       "      <th>3</th>\n",
       "      <td>2017-09</td>\n",
       "      <td>Arkansas</td>\n",
       "      <td>0.0</td>\n",
       "      <td>0.0</td>\n",
       "      <td>0.0</td>\n",
       "    </tr>\n",
       "    <tr>\n",
       "      <th>4</th>\n",
       "      <td>2017-09</td>\n",
       "      <td>California</td>\n",
       "      <td>0.0</td>\n",
       "      <td>0.0</td>\n",
       "      <td>0.0</td>\n",
       "    </tr>\n",
       "  </tbody>\n",
       "</table>\n",
       "</div>"
      ],
      "text/plain": [
       "     month       state  rentals_handgun  rentals_long_gun  Total\n",
       "0  2017-09     Alabama              0.0               0.0    0.0\n",
       "1  2017-09      Alaska              0.0               0.0    0.0\n",
       "2  2017-09     Arizona              0.0               0.0    0.0\n",
       "3  2017-09    Arkansas              0.0               0.0    0.0\n",
       "4  2017-09  California              0.0               0.0    0.0"
      ]
     },
     "metadata": {},
     "output_type": "display_data"
    },
    {
     "data": {
      "text/html": [
       "<div>\n",
       "<style scoped>\n",
       "    .dataframe tbody tr th:only-of-type {\n",
       "        vertical-align: middle;\n",
       "    }\n",
       "\n",
       "    .dataframe tbody tr th {\n",
       "        vertical-align: top;\n",
       "    }\n",
       "\n",
       "    .dataframe thead th {\n",
       "        text-align: right;\n",
       "    }\n",
       "</style>\n",
       "<table border=\"1\" class=\"dataframe\">\n",
       "  <thead>\n",
       "    <tr style=\"text-align: right;\">\n",
       "      <th></th>\n",
       "      <th>month</th>\n",
       "      <th>state</th>\n",
       "      <th>private_sale_handgun</th>\n",
       "      <th>private_sale_long_gun</th>\n",
       "      <th>private_sale_other</th>\n",
       "      <th>Total</th>\n",
       "    </tr>\n",
       "  </thead>\n",
       "  <tbody>\n",
       "    <tr>\n",
       "      <th>0</th>\n",
       "      <td>2017-09</td>\n",
       "      <td>Alabama</td>\n",
       "      <td>9.0</td>\n",
       "      <td>16.0</td>\n",
       "      <td>3.0</td>\n",
       "      <td>28.0</td>\n",
       "    </tr>\n",
       "    <tr>\n",
       "      <th>1</th>\n",
       "      <td>2017-09</td>\n",
       "      <td>Alaska</td>\n",
       "      <td>17.0</td>\n",
       "      <td>24.0</td>\n",
       "      <td>1.0</td>\n",
       "      <td>42.0</td>\n",
       "    </tr>\n",
       "    <tr>\n",
       "      <th>2</th>\n",
       "      <td>2017-09</td>\n",
       "      <td>Arizona</td>\n",
       "      <td>38.0</td>\n",
       "      <td>12.0</td>\n",
       "      <td>2.0</td>\n",
       "      <td>52.0</td>\n",
       "    </tr>\n",
       "    <tr>\n",
       "      <th>3</th>\n",
       "      <td>2017-09</td>\n",
       "      <td>Arkansas</td>\n",
       "      <td>13.0</td>\n",
       "      <td>23.0</td>\n",
       "      <td>0.0</td>\n",
       "      <td>36.0</td>\n",
       "    </tr>\n",
       "    <tr>\n",
       "      <th>4</th>\n",
       "      <td>2017-09</td>\n",
       "      <td>California</td>\n",
       "      <td>0.0</td>\n",
       "      <td>0.0</td>\n",
       "      <td>0.0</td>\n",
       "      <td>0.0</td>\n",
       "    </tr>\n",
       "  </tbody>\n",
       "</table>\n",
       "</div>"
      ],
      "text/plain": [
       "     month       state  private_sale_handgun  private_sale_long_gun  \\\n",
       "0  2017-09     Alabama                   9.0                   16.0   \n",
       "1  2017-09      Alaska                  17.0                   24.0   \n",
       "2  2017-09     Arizona                  38.0                   12.0   \n",
       "3  2017-09    Arkansas                  13.0                   23.0   \n",
       "4  2017-09  California                   0.0                    0.0   \n",
       "\n",
       "   private_sale_other  Total  \n",
       "0                 3.0   28.0  \n",
       "1                 1.0   42.0  \n",
       "2                 2.0   52.0  \n",
       "3                 0.0   36.0  \n",
       "4                 0.0    0.0  "
      ]
     },
     "metadata": {},
     "output_type": "display_data"
    },
    {
     "data": {
      "text/html": [
       "<div>\n",
       "<style scoped>\n",
       "    .dataframe tbody tr th:only-of-type {\n",
       "        vertical-align: middle;\n",
       "    }\n",
       "\n",
       "    .dataframe tbody tr th {\n",
       "        vertical-align: top;\n",
       "    }\n",
       "\n",
       "    .dataframe thead th {\n",
       "        text-align: right;\n",
       "    }\n",
       "</style>\n",
       "<table border=\"1\" class=\"dataframe\">\n",
       "  <thead>\n",
       "    <tr style=\"text-align: right;\">\n",
       "      <th></th>\n",
       "      <th>month</th>\n",
       "      <th>state</th>\n",
       "      <th>return_to_seller_handgun</th>\n",
       "      <th>return_to_seller_long_gun</th>\n",
       "      <th>return_to_seller_other</th>\n",
       "      <th>Total</th>\n",
       "    </tr>\n",
       "  </thead>\n",
       "  <tbody>\n",
       "    <tr>\n",
       "      <th>0</th>\n",
       "      <td>2017-09</td>\n",
       "      <td>Alabama</td>\n",
       "      <td>0.0</td>\n",
       "      <td>0.0</td>\n",
       "      <td>3.0</td>\n",
       "      <td>3.0</td>\n",
       "    </tr>\n",
       "    <tr>\n",
       "      <th>1</th>\n",
       "      <td>2017-09</td>\n",
       "      <td>Alaska</td>\n",
       "      <td>0.0</td>\n",
       "      <td>0.0</td>\n",
       "      <td>0.0</td>\n",
       "      <td>0.0</td>\n",
       "    </tr>\n",
       "    <tr>\n",
       "      <th>2</th>\n",
       "      <td>2017-09</td>\n",
       "      <td>Arizona</td>\n",
       "      <td>0.0</td>\n",
       "      <td>0.0</td>\n",
       "      <td>0.0</td>\n",
       "      <td>0.0</td>\n",
       "    </tr>\n",
       "    <tr>\n",
       "      <th>3</th>\n",
       "      <td>2017-09</td>\n",
       "      <td>Arkansas</td>\n",
       "      <td>0.0</td>\n",
       "      <td>2.0</td>\n",
       "      <td>1.0</td>\n",
       "      <td>3.0</td>\n",
       "    </tr>\n",
       "    <tr>\n",
       "      <th>4</th>\n",
       "      <td>2017-09</td>\n",
       "      <td>California</td>\n",
       "      <td>0.0</td>\n",
       "      <td>0.0</td>\n",
       "      <td>0.0</td>\n",
       "      <td>0.0</td>\n",
       "    </tr>\n",
       "  </tbody>\n",
       "</table>\n",
       "</div>"
      ],
      "text/plain": [
       "     month       state  return_to_seller_handgun  return_to_seller_long_gun  \\\n",
       "0  2017-09     Alabama                       0.0                        0.0   \n",
       "1  2017-09      Alaska                       0.0                        0.0   \n",
       "2  2017-09     Arizona                       0.0                        0.0   \n",
       "3  2017-09    Arkansas                       0.0                        2.0   \n",
       "4  2017-09  California                       0.0                        0.0   \n",
       "\n",
       "   return_to_seller_other  Total  \n",
       "0                     3.0    3.0  \n",
       "1                     0.0    0.0  \n",
       "2                     0.0    0.0  \n",
       "3                     1.0    3.0  \n",
       "4                     0.0    0.0  "
      ]
     },
     "metadata": {},
     "output_type": "display_data"
    }
   ],
   "source": [
    "# Confirm the layouts are correct\n",
    "display(permit_data.head())\n",
    "\n",
    "display(permit_data.tail())\n",
    "\n",
    "display(pre_pawn.head())\n",
    "\n",
    "display(returned.head())\n",
    "\n",
    "display(rentals.head())\n",
    "\n",
    "display(pvt_sales.head())\n",
    "\n",
    "display(ret_to_seller.head())"
   ]
  },
  {
   "cell_type": "markdown",
   "metadata": {},
   "source": [
    "Excellent! The couple of cells above mark the beginning of our analysis. Now that we have working datasets for each category, performing and extracting valuable information should now become as consistent and readable as we wanted.\n",
    "\n",
    "**Note:** Couple of warnings have been displayed regarding the indexing properties of these data frames. As a preventive measure and to keep proper indexing at its place, Pandas displays this warning. However, not every case needs to treat this as a compulsory step to introduce in some corrective fixes. Since our data frames are being outputting as expected, the warnings need to be ignored."
   ]
  },
  {
   "cell_type": "markdown",
   "metadata": {},
   "source": [
    "<a id = 'quest'></a>\n",
    "## Raising Questions\n",
    "\n",
    "With any statistical reporting, questions need to be asked first and appropriate answers selected for those questions. Many ask questions as an extension to the introductory part while some ask after some of the data exploration has been done.\n",
    "\n",
    "Since the latter allows one to get a better picture of the data and then ask more appropriate questions, I have therefore fixed this section after the data cleaning process. The above datasets are very interesting indeed and an innumerable number of questions can be posed before these datasets. For example, one of the primary questions that at once comes in mind is that how do different weapons trend since 1998? What we have here is a division into 'handguns' and 'long guns'. It would be interesting to check on this and reveal some insights on how the NICS system has so far recorded for these categories, something that I exclusively answer in the statistical testing section of the exploration phase below.\n",
    "\n",
    "However, there are still thousands of questions that can be framed up. What is the participation of the states in recording NICS data? What trends can be extracted for each state and what would it imply for law makers and policy designers? Does the permit data give an accurate picture of weapon ownership and sales or does it provide only the checks recorded so far while weapon sales means another topic? Some of these questions can well be answered by the data we have while some others might require additional features and datasets.\n",
    "\n",
    "In this report, I'll be answering on how some states perform when it comes to differences in weapon ownership. Do handguns attract more checks than long guns or is it more towards for multiple ownership? As we'll find out, the answers differ by a lesser degree. While in most states, single transactions occur for several weapons, there is little difference between the statistical differences of weapon categories except when it comes to some remote areas and states that are less prone to an armed populace, like the state of Wyoming when compared to California, has much less weapon checks recorded; and that too most of it being checks on small arms. On the contrary, the latter state has recorded pretty much similar data for both categories."
   ]
  },
  {
   "cell_type": "markdown",
   "metadata": {},
   "source": [
    "<a id = 'explore'></a>\n",
    "## Exploratory Analysis\n",
    "\n",
    "Exploratory analysis is the process of analysing stuff through descriptive statistics and visualizations. It's a compulsory step in almost every statistical analysis and is also indirectly executed in other scientific publishing. The remaining processes of inference and conclusion are dependent on data exploration.\n",
    "\n",
    "Now that we have our primary datasets ready, we proceed with analysing some descriptive statistics and conducting some statistical tests. For example, lets describe the `handgun` column from the `permit_data`."
   ]
  },
  {
   "cell_type": "code",
   "execution_count": 10,
   "metadata": {},
   "outputs": [
    {
     "data": {
      "text/plain": [
       "count     12485.000000\n",
       "mean       5931.364277\n",
       "std        8614.954626\n",
       "min           0.000000\n",
       "25%         857.000000\n",
       "50%        3046.000000\n",
       "75%        7277.000000\n",
       "max      107224.000000\n",
       "Name: handgun, dtype: float64"
      ]
     },
     "execution_count": 10,
     "metadata": {},
     "output_type": "execute_result"
    }
   ],
   "source": [
    "permit_data.handgun.describe()"
   ]
  },
  {
   "cell_type": "markdown",
   "metadata": {},
   "source": [
    "Those are some interesting figures we have. And this is just one of the many ways one can summarise the data. Since I'm fairly new to Python3 and also added the lack of time and pressure to finish this project before the term end, I'll be keeping the sections as concise but at the same time as meaningful and understandable as possible.\n",
    "\n",
    "What we have above is the summary for the `handgun` column of `permit_data`. Now these are nation-wide statistics but we can also filter out according to states and then describe each column fluently. For the present results, since 1998, there have been on an average 5931 checks on small arms (handguns) with a maximum recorded 107,224 checks. These are again nation-wide numbers. As we shall see later, the minimum and maximum values can be extracted out and checked which rows they were found in. In this manner, the state and year of these respective values and be found out and valuable information gained from it.\n",
    "\n",
    "Let's see how long guns compare."
   ]
  },
  {
   "cell_type": "code",
   "execution_count": 11,
   "metadata": {},
   "outputs": [
    {
     "data": {
      "text/plain": [
       "count     12485.000000\n",
       "mean       7798.960833\n",
       "std        9307.740581\n",
       "min           0.000000\n",
       "25%        2063.000000\n",
       "50%        5114.000000\n",
       "75%       10374.000000\n",
       "max      108058.000000\n",
       "Name: long_gun, dtype: float64"
      ]
     },
     "execution_count": 11,
     "metadata": {},
     "output_type": "execute_result"
    }
   ],
   "source": [
    "permit_data.long_gun.describe()"
   ]
  },
  {
   "cell_type": "markdown",
   "metadata": {},
   "source": [
    "Well, long guns recorded more checks with a mean of 7798 checks performed so far since 1998 with a maximm of 108,058. Researchers can thus get a sense that there are approx. as many long guns in the U.S. as hand guns (with long guns being a little more in demand). Let's see how multiple checks compared."
   ]
  },
  {
   "cell_type": "code",
   "execution_count": 12,
   "metadata": {},
   "outputs": [
    {
     "data": {
      "text/plain": [
       "count    12485.000000\n",
       "mean       268.603364\n",
       "std        783.185073\n",
       "min          0.000000\n",
       "25%         15.000000\n",
       "50%        125.000000\n",
       "75%        301.000000\n",
       "max      38907.000000\n",
       "Name: multiple, dtype: float64"
      ]
     },
     "execution_count": 12,
     "metadata": {},
     "output_type": "execute_result"
    }
   ],
   "source": [
    "permit_data.multiple.describe()"
   ]
  },
  {
   "cell_type": "markdown",
   "metadata": {},
   "source": [
    "With a mean of 268 and a maximum figure of 38907, I would say that this is skewed data and there seems to be some inconsistency here. Nevertheless, the NICS recorded more checks on single weapons than multiple and that might provide us with the assertion that people tend to buy weapons in single rather than buying multiple weapons in one transaction.\n",
    "\n",
    "Similar to our descriptive statistics presented above, we can have a number of such outputs for every column and data frame of importance. But that makes things tedious; so visualization comes to the rescue. For example, we can ask the question if permit checks have increased or decreased in an individual state. Let's take the case of Wyoming that is one of the most sparsely populated and inactive states in the country. Revealing some information from it could surprise some of us.\n",
    "\n",
    "There are always several ways to achieve this. A bar graph or a simple time-series curve will fit perfectly to the above question and we can go on with many ways to do grouping the data itself before performing a visualization. However, every approach needs to be consistent and tidy, and I personally proceed with filtering a separate data frame and running operation on it rather than doing the same thing on a parent data frame. So let's make a new data frame for the state Wyoming from the `permit_data` and extract insights from it."
   ]
  },
  {
   "cell_type": "code",
   "execution_count": 13,
   "metadata": {},
   "outputs": [
    {
     "name": "stdout",
     "output_type": "stream",
     "text": [
      "227 are the number of rows.\n"
     ]
    },
    {
     "data": {
      "text/html": [
       "<div>\n",
       "<style scoped>\n",
       "    .dataframe tbody tr th:only-of-type {\n",
       "        vertical-align: middle;\n",
       "    }\n",
       "\n",
       "    .dataframe tbody tr th {\n",
       "        vertical-align: top;\n",
       "    }\n",
       "\n",
       "    .dataframe thead th {\n",
       "        text-align: right;\n",
       "    }\n",
       "</style>\n",
       "<table border=\"1\" class=\"dataframe\">\n",
       "  <thead>\n",
       "    <tr style=\"text-align: right;\">\n",
       "      <th></th>\n",
       "      <th>month</th>\n",
       "      <th>state</th>\n",
       "      <th>permit</th>\n",
       "      <th>permit_recheck</th>\n",
       "      <th>handgun</th>\n",
       "      <th>long_gun</th>\n",
       "      <th>other</th>\n",
       "      <th>multiple</th>\n",
       "      <th>admin</th>\n",
       "      <th>Total</th>\n",
       "    </tr>\n",
       "  </thead>\n",
       "  <tbody>\n",
       "    <tr>\n",
       "      <th>54</th>\n",
       "      <td>2017-09</td>\n",
       "      <td>Wyoming</td>\n",
       "      <td>280.0</td>\n",
       "      <td>11.0</td>\n",
       "      <td>1337.0</td>\n",
       "      <td>2015.0</td>\n",
       "      <td>61.0</td>\n",
       "      <td>97</td>\n",
       "      <td>1.0</td>\n",
       "      <td>3802.0</td>\n",
       "    </tr>\n",
       "    <tr>\n",
       "      <th>109</th>\n",
       "      <td>2017-08</td>\n",
       "      <td>Wyoming</td>\n",
       "      <td>408.0</td>\n",
       "      <td>15.0</td>\n",
       "      <td>1411.0</td>\n",
       "      <td>1762.0</td>\n",
       "      <td>62.0</td>\n",
       "      <td>86</td>\n",
       "      <td>2.0</td>\n",
       "      <td>3746.0</td>\n",
       "    </tr>\n",
       "    <tr>\n",
       "      <th>164</th>\n",
       "      <td>2017-07</td>\n",
       "      <td>Wyoming</td>\n",
       "      <td>279.0</td>\n",
       "      <td>9.0</td>\n",
       "      <td>1231.0</td>\n",
       "      <td>1395.0</td>\n",
       "      <td>82.0</td>\n",
       "      <td>77</td>\n",
       "      <td>11.0</td>\n",
       "      <td>3084.0</td>\n",
       "    </tr>\n",
       "    <tr>\n",
       "      <th>219</th>\n",
       "      <td>2017-06</td>\n",
       "      <td>Wyoming</td>\n",
       "      <td>350.0</td>\n",
       "      <td>16.0</td>\n",
       "      <td>1520.0</td>\n",
       "      <td>1544.0</td>\n",
       "      <td>107.0</td>\n",
       "      <td>85</td>\n",
       "      <td>0.0</td>\n",
       "      <td>3622.0</td>\n",
       "    </tr>\n",
       "    <tr>\n",
       "      <th>274</th>\n",
       "      <td>2017-05</td>\n",
       "      <td>Wyoming</td>\n",
       "      <td>435.0</td>\n",
       "      <td>19.0</td>\n",
       "      <td>1589.0</td>\n",
       "      <td>1578.0</td>\n",
       "      <td>101.0</td>\n",
       "      <td>91</td>\n",
       "      <td>5.0</td>\n",
       "      <td>3818.0</td>\n",
       "    </tr>\n",
       "  </tbody>\n",
       "</table>\n",
       "</div>"
      ],
      "text/plain": [
       "       month    state  permit  permit_recheck  handgun  long_gun  other  \\\n",
       "54   2017-09  Wyoming   280.0            11.0   1337.0    2015.0   61.0   \n",
       "109  2017-08  Wyoming   408.0            15.0   1411.0    1762.0   62.0   \n",
       "164  2017-07  Wyoming   279.0             9.0   1231.0    1395.0   82.0   \n",
       "219  2017-06  Wyoming   350.0            16.0   1520.0    1544.0  107.0   \n",
       "274  2017-05  Wyoming   435.0            19.0   1589.0    1578.0  101.0   \n",
       "\n",
       "     multiple  admin   Total  \n",
       "54         97    1.0  3802.0  \n",
       "109        86    2.0  3746.0  \n",
       "164        77   11.0  3084.0  \n",
       "219        85    0.0  3622.0  \n",
       "274        91    5.0  3818.0  "
      ]
     },
     "metadata": {},
     "output_type": "display_data"
    },
    {
     "data": {
      "text/html": [
       "<div>\n",
       "<style scoped>\n",
       "    .dataframe tbody tr th:only-of-type {\n",
       "        vertical-align: middle;\n",
       "    }\n",
       "\n",
       "    .dataframe tbody tr th {\n",
       "        vertical-align: top;\n",
       "    }\n",
       "\n",
       "    .dataframe thead th {\n",
       "        text-align: right;\n",
       "    }\n",
       "</style>\n",
       "<table border=\"1\" class=\"dataframe\">\n",
       "  <thead>\n",
       "    <tr style=\"text-align: right;\">\n",
       "      <th></th>\n",
       "      <th>month</th>\n",
       "      <th>state</th>\n",
       "      <th>permit</th>\n",
       "      <th>permit_recheck</th>\n",
       "      <th>handgun</th>\n",
       "      <th>long_gun</th>\n",
       "      <th>other</th>\n",
       "      <th>multiple</th>\n",
       "      <th>admin</th>\n",
       "      <th>Total</th>\n",
       "    </tr>\n",
       "  </thead>\n",
       "  <tbody>\n",
       "    <tr>\n",
       "      <th>12264</th>\n",
       "      <td>1999-03</td>\n",
       "      <td>Wyoming</td>\n",
       "      <td>171.0</td>\n",
       "      <td>0.0</td>\n",
       "      <td>986.0</td>\n",
       "      <td>1574.0</td>\n",
       "      <td>0.0</td>\n",
       "      <td>45</td>\n",
       "      <td>0.0</td>\n",
       "      <td>2776.0</td>\n",
       "    </tr>\n",
       "    <tr>\n",
       "      <th>12319</th>\n",
       "      <td>1999-02</td>\n",
       "      <td>Wyoming</td>\n",
       "      <td>150.0</td>\n",
       "      <td>0.0</td>\n",
       "      <td>831.0</td>\n",
       "      <td>1584.0</td>\n",
       "      <td>0.0</td>\n",
       "      <td>77</td>\n",
       "      <td>1.0</td>\n",
       "      <td>2643.0</td>\n",
       "    </tr>\n",
       "    <tr>\n",
       "      <th>12374</th>\n",
       "      <td>1999-01</td>\n",
       "      <td>Wyoming</td>\n",
       "      <td>67.0</td>\n",
       "      <td>0.0</td>\n",
       "      <td>668.0</td>\n",
       "      <td>1401.0</td>\n",
       "      <td>0.0</td>\n",
       "      <td>44</td>\n",
       "      <td>0.0</td>\n",
       "      <td>2180.0</td>\n",
       "    </tr>\n",
       "    <tr>\n",
       "      <th>12429</th>\n",
       "      <td>1998-12</td>\n",
       "      <td>Wyoming</td>\n",
       "      <td>113.0</td>\n",
       "      <td>0.0</td>\n",
       "      <td>925.0</td>\n",
       "      <td>2303.0</td>\n",
       "      <td>0.0</td>\n",
       "      <td>38</td>\n",
       "      <td>0.0</td>\n",
       "      <td>3379.0</td>\n",
       "    </tr>\n",
       "    <tr>\n",
       "      <th>12484</th>\n",
       "      <td>1998-11</td>\n",
       "      <td>Wyoming</td>\n",
       "      <td>8.0</td>\n",
       "      <td>0.0</td>\n",
       "      <td>45.0</td>\n",
       "      <td>49.0</td>\n",
       "      <td>0.0</td>\n",
       "      <td>5</td>\n",
       "      <td>0.0</td>\n",
       "      <td>107.0</td>\n",
       "    </tr>\n",
       "  </tbody>\n",
       "</table>\n",
       "</div>"
      ],
      "text/plain": [
       "         month    state  permit  permit_recheck  handgun  long_gun  other  \\\n",
       "12264  1999-03  Wyoming   171.0             0.0    986.0    1574.0    0.0   \n",
       "12319  1999-02  Wyoming   150.0             0.0    831.0    1584.0    0.0   \n",
       "12374  1999-01  Wyoming    67.0             0.0    668.0    1401.0    0.0   \n",
       "12429  1998-12  Wyoming   113.0             0.0    925.0    2303.0    0.0   \n",
       "12484  1998-11  Wyoming     8.0             0.0     45.0      49.0    0.0   \n",
       "\n",
       "       multiple  admin   Total  \n",
       "12264        45    0.0  2776.0  \n",
       "12319        77    1.0  2643.0  \n",
       "12374        44    0.0  2180.0  \n",
       "12429        38    0.0  3379.0  \n",
       "12484         5    0.0   107.0  "
      ]
     },
     "metadata": {},
     "output_type": "display_data"
    }
   ],
   "source": [
    "# For Wyoming.\n",
    "\n",
    "wyoming_permit_dat = permit_data[permit_data.state == 'Wyoming']\n",
    "\n",
    "print(len(wyoming_permit_dat), 'are the number of rows.')\n",
    "\n",
    "display(wyoming_permit_dat.head())\n",
    "\n",
    "display(wyoming_permit_dat.tail())"
   ]
  },
  {
   "cell_type": "markdown",
   "metadata": {},
   "source": [
    "Observing some of the output for `wyoming_permit_dat` really gives us some intriguing values. For example, in November of 1998 (the year when NICS started functioning), we have number of handgun checks at just 45. The following month, this number skyrockets to 925 (a 2055% increase!) and has since then remained consistent. Such are the similar trends felt for the rest of the columns as well.\n",
    "\n",
    "Let's see how handguns have faired in all these years"
   ]
  },
  {
   "cell_type": "code",
   "execution_count": 14,
   "metadata": {
    "scrolled": true
   },
   "outputs": [
    {
     "data": {
      "text/html": [
       "<div>\n",
       "<style scoped>\n",
       "    .dataframe tbody tr th:only-of-type {\n",
       "        vertical-align: middle;\n",
       "    }\n",
       "\n",
       "    .dataframe tbody tr th {\n",
       "        vertical-align: top;\n",
       "    }\n",
       "\n",
       "    .dataframe thead th {\n",
       "        text-align: right;\n",
       "    }\n",
       "</style>\n",
       "<table border=\"1\" class=\"dataframe\">\n",
       "  <thead>\n",
       "    <tr style=\"text-align: right;\">\n",
       "      <th></th>\n",
       "      <th>month</th>\n",
       "      <th>state</th>\n",
       "      <th>permit</th>\n",
       "      <th>permit_recheck</th>\n",
       "      <th>handgun</th>\n",
       "      <th>long_gun</th>\n",
       "      <th>other</th>\n",
       "      <th>multiple</th>\n",
       "      <th>admin</th>\n",
       "      <th>Total</th>\n",
       "    </tr>\n",
       "  </thead>\n",
       "  <tbody>\n",
       "    <tr>\n",
       "      <th>12484</th>\n",
       "      <td>1998-11</td>\n",
       "      <td>Wyoming</td>\n",
       "      <td>8.0</td>\n",
       "      <td>0.0</td>\n",
       "      <td>45.0</td>\n",
       "      <td>49.0</td>\n",
       "      <td>0.0</td>\n",
       "      <td>5</td>\n",
       "      <td>0.0</td>\n",
       "      <td>107.0</td>\n",
       "    </tr>\n",
       "    <tr>\n",
       "      <th>12429</th>\n",
       "      <td>1998-12</td>\n",
       "      <td>Wyoming</td>\n",
       "      <td>113.0</td>\n",
       "      <td>0.0</td>\n",
       "      <td>925.0</td>\n",
       "      <td>2303.0</td>\n",
       "      <td>0.0</td>\n",
       "      <td>38</td>\n",
       "      <td>0.0</td>\n",
       "      <td>3379.0</td>\n",
       "    </tr>\n",
       "    <tr>\n",
       "      <th>12374</th>\n",
       "      <td>1999-01</td>\n",
       "      <td>Wyoming</td>\n",
       "      <td>67.0</td>\n",
       "      <td>0.0</td>\n",
       "      <td>668.0</td>\n",
       "      <td>1401.0</td>\n",
       "      <td>0.0</td>\n",
       "      <td>44</td>\n",
       "      <td>0.0</td>\n",
       "      <td>2180.0</td>\n",
       "    </tr>\n",
       "    <tr>\n",
       "      <th>12319</th>\n",
       "      <td>1999-02</td>\n",
       "      <td>Wyoming</td>\n",
       "      <td>150.0</td>\n",
       "      <td>0.0</td>\n",
       "      <td>831.0</td>\n",
       "      <td>1584.0</td>\n",
       "      <td>0.0</td>\n",
       "      <td>77</td>\n",
       "      <td>1.0</td>\n",
       "      <td>2643.0</td>\n",
       "    </tr>\n",
       "    <tr>\n",
       "      <th>12264</th>\n",
       "      <td>1999-03</td>\n",
       "      <td>Wyoming</td>\n",
       "      <td>171.0</td>\n",
       "      <td>0.0</td>\n",
       "      <td>986.0</td>\n",
       "      <td>1574.0</td>\n",
       "      <td>0.0</td>\n",
       "      <td>45</td>\n",
       "      <td>0.0</td>\n",
       "      <td>2776.0</td>\n",
       "    </tr>\n",
       "  </tbody>\n",
       "</table>\n",
       "</div>"
      ],
      "text/plain": [
       "         month    state  permit  permit_recheck  handgun  long_gun  other  \\\n",
       "12484  1998-11  Wyoming     8.0             0.0     45.0      49.0    0.0   \n",
       "12429  1998-12  Wyoming   113.0             0.0    925.0    2303.0    0.0   \n",
       "12374  1999-01  Wyoming    67.0             0.0    668.0    1401.0    0.0   \n",
       "12319  1999-02  Wyoming   150.0             0.0    831.0    1584.0    0.0   \n",
       "12264  1999-03  Wyoming   171.0             0.0    986.0    1574.0    0.0   \n",
       "\n",
       "       multiple  admin   Total  \n",
       "12484         5    0.0   107.0  \n",
       "12429        38    0.0  3379.0  \n",
       "12374        44    0.0  2180.0  \n",
       "12319        77    1.0  2643.0  \n",
       "12264        45    0.0  2776.0  "
      ]
     },
     "execution_count": 14,
     "metadata": {},
     "output_type": "execute_result"
    }
   ],
   "source": [
    "# Sort out the data frame according to time period, keeping the oldest first\n",
    "wyoming_permit_dat = wyoming_permit_dat.sort_values(by = ['month'])\n",
    "\n",
    "wyoming_permit_dat.head()"
   ]
  },
  {
   "cell_type": "code",
   "execution_count": 15,
   "metadata": {},
   "outputs": [
    {
     "name": "stderr",
     "output_type": "stream",
     "text": [
      "/Users/Shiv/anaconda3/lib/python3.6/site-packages/seaborn/categorical.py:1428: FutureWarning: remove_na is deprecated and is a private function. Do not use.\n",
      "  stat_data = remove_na(group_data)\n"
     ]
    },
    {
     "data": {
      "image/png": "[encoded data removed]",
      "text/plain": [
       "<matplotlib.figure.Figure at 0x1c1a22e0f0>"
      ]
     },
     "metadata": {},
     "output_type": "display_data"
    }
   ],
   "source": [
    "# Print out a simple bar plot.\n",
    "\n",
    "gph = sb.barplot(x = 'month', y = 'handgun', data = wyoming_permit_dat)"
   ]
  },
  {
   "cell_type": "markdown",
   "metadata": {},
   "source": [
    "And so there we have a simple bar plot without the dimensions specified. It's interesting note the trends here. It looks like that at some point of time, there was a sharp rise in these small arms checks. What could be the reason? There also seems to be occasional seasonal spikes in the data that indicates handgun transactions are mor of a cyclical phenomenon in the country.\n",
    "\n",
    "Let's proceed with cleaner and more informative visualizations and descriptions."
   ]
  },
  {
   "cell_type": "code",
   "execution_count": 16,
   "metadata": {},
   "outputs": [
    {
     "name": "stdout",
     "output_type": "stream",
     "text": [
      "Is it datetime?: False\n",
      "Is it string?: True\n"
     ]
    }
   ],
   "source": [
    "from pandas.api.types import is_string_dtype\n",
    "from pandas.api.types import is_numeric_dtype\n",
    "from pandas.api.types import is_datetime64_any_dtype\n",
    "\n",
    "print('Is it datetime?:', is_datetime64_any_dtype(wyoming_permit_dat['month']))\n",
    "\n",
    "print('Is it string?:', is_string_dtype(wyoming_permit_dat['month']))"
   ]
  },
  {
   "cell_type": "markdown",
   "metadata": {},
   "source": [
    "One of the things that data scientists and statisticians deal with is assigning appropriate data types to correct columns. One of the most important and also incomplete features of most data frames are the unconverted date and time data. As the above code cell just revealed, the `month` column for our data frame is still a string. Conducting grouping operations requires us to convert such data to the appropriate data type. Let's experiment with converting the `month` column of our `wyoming_permit_dat` frame to the correct format and conduct further analysis on it.\n",
    "\n",
    "Now, there are two ways we can go ahead with this - either convert the 'month' column to a single `datetime` format, or add additional columns to the existing data frame with something like 'year' and 'month' as separate column. Since the latter approach will make the data frame more versatile but will require more code to achieve that, let's try going ahead with latter approach. We'll have two function here; one will add a new column that will have the appropriate `datetime` objects in it and a second function that will rearrange the columns to include the new column at the beginning and finally remove the old 'month' column."
   ]
  },
  {
   "cell_type": "code",
   "execution_count": 17,
   "metadata": {},
   "outputs": [],
   "source": [
    "# This will rearrange the columns\n",
    "\n",
    "def new_dates(data):\n",
    "    \n",
    "    # Make a new column with proper dates\n",
    "    data['date'] = pd.to_datetime(data['month'], format = '%Y-%m')\n",
    "    \n",
    "    # Return some output\n",
    "    return data['date'].head(3)"
   ]
  },
  {
   "cell_type": "markdown",
   "metadata": {},
   "source": [
    "So we have a nice function that will do the job of converting some values to the appropriate `datetime` format and replacing the old values with these new data. Let's test on the Wyoming dataset."
   ]
  },
  {
   "cell_type": "code",
   "execution_count": 18,
   "metadata": {},
   "outputs": [
    {
     "data": {
      "text/plain": [
       "12484   1998-11-01\n",
       "12429   1998-12-01\n",
       "12374   1999-01-01\n",
       "Name: date, dtype: datetime64[ns]"
      ]
     },
     "execution_count": 18,
     "metadata": {},
     "output_type": "execute_result"
    }
   ],
   "source": [
    "new_dates(wyoming_permit_dat)"
   ]
  },
  {
   "cell_type": "markdown",
   "metadata": {},
   "source": [
    "And finally we have a new 'date' column for our Wyoming data and that has the proper `datetime64` data type. We also have the `col_rearrange` function that can well be applied to any data frame and output displayed. Now, there is one final step remaining and that is rearranging the columns so that the 'date' column becomes the replacement for 'month' and the latter column is no longer available. That will make our dataset a proper time-series data."
   ]
  },
  {
   "cell_type": "code",
   "execution_count": 19,
   "metadata": {},
   "outputs": [
    {
     "data": {
      "text/html": [
       "<div>\n",
       "<style scoped>\n",
       "    .dataframe tbody tr th:only-of-type {\n",
       "        vertical-align: middle;\n",
       "    }\n",
       "\n",
       "    .dataframe tbody tr th {\n",
       "        vertical-align: top;\n",
       "    }\n",
       "\n",
       "    .dataframe thead th {\n",
       "        text-align: right;\n",
       "    }\n",
       "</style>\n",
       "<table border=\"1\" class=\"dataframe\">\n",
       "  <thead>\n",
       "    <tr style=\"text-align: right;\">\n",
       "      <th></th>\n",
       "      <th>date</th>\n",
       "      <th>state</th>\n",
       "      <th>permit</th>\n",
       "      <th>permit_recheck</th>\n",
       "      <th>handgun</th>\n",
       "      <th>long_gun</th>\n",
       "      <th>other</th>\n",
       "      <th>multiple</th>\n",
       "      <th>admin</th>\n",
       "      <th>Total</th>\n",
       "    </tr>\n",
       "  </thead>\n",
       "  <tbody>\n",
       "    <tr>\n",
       "      <th>12484</th>\n",
       "      <td>1998-11-01</td>\n",
       "      <td>Wyoming</td>\n",
       "      <td>8.0</td>\n",
       "      <td>0.0</td>\n",
       "      <td>45.0</td>\n",
       "      <td>49.0</td>\n",
       "      <td>0.0</td>\n",
       "      <td>5</td>\n",
       "      <td>0.0</td>\n",
       "      <td>107.0</td>\n",
       "    </tr>\n",
       "    <tr>\n",
       "      <th>12429</th>\n",
       "      <td>1998-12-01</td>\n",
       "      <td>Wyoming</td>\n",
       "      <td>113.0</td>\n",
       "      <td>0.0</td>\n",
       "      <td>925.0</td>\n",
       "      <td>2303.0</td>\n",
       "      <td>0.0</td>\n",
       "      <td>38</td>\n",
       "      <td>0.0</td>\n",
       "      <td>3379.0</td>\n",
       "    </tr>\n",
       "    <tr>\n",
       "      <th>12374</th>\n",
       "      <td>1999-01-01</td>\n",
       "      <td>Wyoming</td>\n",
       "      <td>67.0</td>\n",
       "      <td>0.0</td>\n",
       "      <td>668.0</td>\n",
       "      <td>1401.0</td>\n",
       "      <td>0.0</td>\n",
       "      <td>44</td>\n",
       "      <td>0.0</td>\n",
       "      <td>2180.0</td>\n",
       "    </tr>\n",
       "  </tbody>\n",
       "</table>\n",
       "</div>"
      ],
      "text/plain": [
       "            date    state  permit  permit_recheck  handgun  long_gun  other  \\\n",
       "12484 1998-11-01  Wyoming     8.0             0.0     45.0      49.0    0.0   \n",
       "12429 1998-12-01  Wyoming   113.0             0.0    925.0    2303.0    0.0   \n",
       "12374 1999-01-01  Wyoming    67.0             0.0    668.0    1401.0    0.0   \n",
       "\n",
       "       multiple  admin   Total  \n",
       "12484         5    0.0   107.0  \n",
       "12429        38    0.0  3379.0  \n",
       "12374        44    0.0  2180.0  "
      ]
     },
     "execution_count": 19,
     "metadata": {},
     "output_type": "execute_result"
    }
   ],
   "source": [
    "# For this to happen, we first list down all the columns of the data frame\n",
    "# and place the last column at the beginning and remove the old 'month'\n",
    "# column.\n",
    "\n",
    "wyoming_permit_dat = wyoming_permit_dat.drop('month', 1) # Drop the month data\n",
    "\n",
    "cols = wyoming_permit_dat.columns.tolist()\n",
    "\n",
    "cols = cols[-1:] + cols [:-1]\n",
    "\n",
    "wyoming_permit_dat = wyoming_permit_dat[cols] # Place everything at place\n",
    "\n",
    "wyoming_permit_dat.head(3)"
   ]
  },
  {
   "cell_type": "markdown",
   "metadata": {},
   "source": [
    "Excellent! So, we have finally a proper time-series data for the Wyoming state's permit checks. One thing to notice is that although in statistical research, the researchers are required to draw a line between all the traditional processes (data cleaning -> exploratory analysis -> inferences -> conclusions), in essence, all these processes are almost interlinked and one needs to perform them whenever the situation demands. This applies specifically to data cleaning and exploration where the latter is also part of the inferences part.\n",
    "\n",
    "Now that we have a time-series, can we plot a time-series graph?"
   ]
  },
  {
   "cell_type": "code",
   "execution_count": 20,
   "metadata": {},
   "outputs": [
    {
     "data": {
      "text/html": [
       "<div>\n",
       "<style scoped>\n",
       "    .dataframe tbody tr th:only-of-type {\n",
       "        vertical-align: middle;\n",
       "    }\n",
       "\n",
       "    .dataframe tbody tr th {\n",
       "        vertical-align: top;\n",
       "    }\n",
       "\n",
       "    .dataframe thead th {\n",
       "        text-align: right;\n",
       "    }\n",
       "</style>\n",
       "<table border=\"1\" class=\"dataframe\">\n",
       "  <thead>\n",
       "    <tr style=\"text-align: right;\">\n",
       "      <th></th>\n",
       "      <th>min</th>\n",
       "      <th>mean</th>\n",
       "      <th>max</th>\n",
       "    </tr>\n",
       "    <tr>\n",
       "      <th>date</th>\n",
       "      <th></th>\n",
       "      <th></th>\n",
       "      <th></th>\n",
       "    </tr>\n",
       "  </thead>\n",
       "  <tbody>\n",
       "    <tr>\n",
       "      <th>1998</th>\n",
       "      <td>107.0</td>\n",
       "      <td>1743.000000</td>\n",
       "      <td>3379.0</td>\n",
       "    </tr>\n",
       "    <tr>\n",
       "      <th>1999</th>\n",
       "      <td>2180.0</td>\n",
       "      <td>2956.333333</td>\n",
       "      <td>4241.0</td>\n",
       "    </tr>\n",
       "    <tr>\n",
       "      <th>2000</th>\n",
       "      <td>2202.0</td>\n",
       "      <td>2857.916667</td>\n",
       "      <td>3907.0</td>\n",
       "    </tr>\n",
       "    <tr>\n",
       "      <th>2001</th>\n",
       "      <td>2231.0</td>\n",
       "      <td>2819.750000</td>\n",
       "      <td>3948.0</td>\n",
       "    </tr>\n",
       "    <tr>\n",
       "      <th>2002</th>\n",
       "      <td>1820.0</td>\n",
       "      <td>2384.250000</td>\n",
       "      <td>3266.0</td>\n",
       "    </tr>\n",
       "    <tr>\n",
       "      <th>2003</th>\n",
       "      <td>1827.0</td>\n",
       "      <td>2354.916667</td>\n",
       "      <td>3835.0</td>\n",
       "    </tr>\n",
       "    <tr>\n",
       "      <th>2004</th>\n",
       "      <td>2041.0</td>\n",
       "      <td>2556.500000</td>\n",
       "      <td>4172.0</td>\n",
       "    </tr>\n",
       "    <tr>\n",
       "      <th>2005</th>\n",
       "      <td>2078.0</td>\n",
       "      <td>2791.416667</td>\n",
       "      <td>4752.0</td>\n",
       "    </tr>\n",
       "    <tr>\n",
       "      <th>2006</th>\n",
       "      <td>2492.0</td>\n",
       "      <td>3184.500000</td>\n",
       "      <td>4949.0</td>\n",
       "    </tr>\n",
       "    <tr>\n",
       "      <th>2007</th>\n",
       "      <td>2619.0</td>\n",
       "      <td>3271.583333</td>\n",
       "      <td>4883.0</td>\n",
       "    </tr>\n",
       "    <tr>\n",
       "      <th>2008</th>\n",
       "      <td>2670.0</td>\n",
       "      <td>3804.333333</td>\n",
       "      <td>6391.0</td>\n",
       "    </tr>\n",
       "    <tr>\n",
       "      <th>2009</th>\n",
       "      <td>3072.0</td>\n",
       "      <td>3944.583333</td>\n",
       "      <td>5329.0</td>\n",
       "    </tr>\n",
       "    <tr>\n",
       "      <th>2010</th>\n",
       "      <td>2888.0</td>\n",
       "      <td>3604.416667</td>\n",
       "      <td>5066.0</td>\n",
       "    </tr>\n",
       "    <tr>\n",
       "      <th>2011</th>\n",
       "      <td>3065.0</td>\n",
       "      <td>3971.750000</td>\n",
       "      <td>5912.0</td>\n",
       "    </tr>\n",
       "    <tr>\n",
       "      <th>2012</th>\n",
       "      <td>3502.0</td>\n",
       "      <td>4849.333333</td>\n",
       "      <td>9491.0</td>\n",
       "    </tr>\n",
       "    <tr>\n",
       "      <th>2013</th>\n",
       "      <td>3927.0</td>\n",
       "      <td>5483.166667</td>\n",
       "      <td>7463.0</td>\n",
       "    </tr>\n",
       "    <tr>\n",
       "      <th>2014</th>\n",
       "      <td>3815.0</td>\n",
       "      <td>4834.583333</td>\n",
       "      <td>6707.0</td>\n",
       "    </tr>\n",
       "    <tr>\n",
       "      <th>2015</th>\n",
       "      <td>3982.0</td>\n",
       "      <td>4810.250000</td>\n",
       "      <td>8479.0</td>\n",
       "    </tr>\n",
       "    <tr>\n",
       "      <th>2016</th>\n",
       "      <td>4217.0</td>\n",
       "      <td>4929.583333</td>\n",
       "      <td>6206.0</td>\n",
       "    </tr>\n",
       "    <tr>\n",
       "      <th>2017</th>\n",
       "      <td>3084.0</td>\n",
       "      <td>3822.333333</td>\n",
       "      <td>4885.0</td>\n",
       "    </tr>\n",
       "  </tbody>\n",
       "</table>\n",
       "</div>"
      ],
      "text/plain": [
       "         min         mean     max\n",
       "date                             \n",
       "1998   107.0  1743.000000  3379.0\n",
       "1999  2180.0  2956.333333  4241.0\n",
       "2000  2202.0  2857.916667  3907.0\n",
       "2001  2231.0  2819.750000  3948.0\n",
       "2002  1820.0  2384.250000  3266.0\n",
       "2003  1827.0  2354.916667  3835.0\n",
       "2004  2041.0  2556.500000  4172.0\n",
       "2005  2078.0  2791.416667  4752.0\n",
       "2006  2492.0  3184.500000  4949.0\n",
       "2007  2619.0  3271.583333  4883.0\n",
       "2008  2670.0  3804.333333  6391.0\n",
       "2009  3072.0  3944.583333  5329.0\n",
       "2010  2888.0  3604.416667  5066.0\n",
       "2011  3065.0  3971.750000  5912.0\n",
       "2012  3502.0  4849.333333  9491.0\n",
       "2013  3927.0  5483.166667  7463.0\n",
       "2014  3815.0  4834.583333  6707.0\n",
       "2015  3982.0  4810.250000  8479.0\n",
       "2016  4217.0  4929.583333  6206.0\n",
       "2017  3084.0  3822.333333  4885.0"
      ]
     },
     "execution_count": 20,
     "metadata": {},
     "output_type": "execute_result"
    }
   ],
   "source": [
    "# Let's use the ggplot and pandas plotting modules since those allow plotting in lesser code.\n",
    "\n",
    "# Proceed by grouping the data we have according to years and then plotting\n",
    "# with a bar plot. We group the data and set 'mean' and 'max' as the paratmetres here.\n",
    "\n",
    "years = []\n",
    "for x in range(1998,2018):\n",
    "    years.append(x) # That will fill in our years column\n",
    "\n",
    "# This returns a data frame\n",
    "wyoming_grouped = wyoming_permit_dat.groupby(wyoming_permit_dat['date'].dt.year)['Total'].agg(['min', 'mean', 'max'])\n",
    "\n",
    "wyoming_grouped\n",
    "\n",
    "# Excellent output!"
   ]
  },
  {
   "cell_type": "code",
   "execution_count": 32,
   "metadata": {},
   "outputs": [
    {
     "data": {
      "text/plain": [
       "<matplotlib.text.Text at 0x1c25e809e8>"
      ]
     },
     "execution_count": 32,
     "metadata": {},
     "output_type": "execute_result"
    },
    {
     "data": {
      "image/png": "[encoded data removed]",
      "text/plain": [
       "<matplotlib.figure.Figure at 0x1c251ab128>"
      ]
     },
     "metadata": {},
     "output_type": "display_data"
    }
   ],
   "source": [
    "# Reset the date index to simple date column\n",
    "wyoming_date_grouped = wyoming_grouped.reset_index()\n",
    "\n",
    "# Plot\n",
    "wyoming_date_grouped.plot(x = 'date', y = 'max', kind = 'bar', figsize = (12, 8), legend = False)\n",
    "pyplt.xlabel('Date')\n",
    "pyplt.ylabel('Frequency')\n",
    "pyplt.title('Bar Plot for Wyoming Data')"
   ]
  },
  {
   "cell_type": "markdown",
   "metadata": {},
   "source": [
    "Since now we have a proper grouped dataset of the Wyoming permit data, a number of plots and statistical analysis can be conducted; there really is no limit to it. Let's try plotting a time-series for all the available values we have. For example, the cell below does it through `ggplot` and plots the total checks done in Wyoming since 198."
   ]
  },
  {
   "cell_type": "code",
   "execution_count": 22,
   "metadata": {},
   "outputs": [
    {
     "data": {
      "image/png": "[encoded data removed]",
      "text/plain": [
       "<matplotlib.figure.Figure at 0x1c2431a2b0>"
      ]
     },
     "metadata": {},
     "output_type": "display_data"
    },
    {
     "data": {
      "text/plain": [
       "<ggplot: (7554146147)>"
      ]
     },
     "execution_count": 22,
     "metadata": {},
     "output_type": "execute_result"
    }
   ],
   "source": [
    "# This cell showcases some simple plotting capabilities of ggplot.\n",
    "# Comes close to R's capability but that is more versatile.\n",
    "\n",
    "plt = ggplot(wyoming_permit_dat, aes(x = 'date', y = 'Total'))\n",
    "    \n",
    "plt + geom_point() + geom_line(color = 'red', alpha = 0.50, size = 2.5) + \\\n",
    "    theme(axis_text_x = element_text(angle = 45, hjust = 1), \n",
    "          title = 'Time-Series of Total Checks for Wyoming (1998-2017)', \n",
    "          axis_title_x = 'Period', axis_title_y = 'Total Checks')"
   ]
  },
  {
   "cell_type": "code",
   "execution_count": 34,
   "metadata": {},
   "outputs": [
    {
     "data": {
      "image/png": "[encoded data removed]",
      "text/plain": [
       "<matplotlib.figure.Figure at 0x1c253ca390>"
      ]
     },
     "metadata": {},
     "output_type": "display_data"
    }
   ],
   "source": [
    "# This cell showcases the default plotting through pandas that\n",
    "# in turn uses matplotlib's mechanics.\n",
    "\n",
    "wyoming_permit_dat.plot(x = 'date', y = 'Total', figsize = (12, 8), \n",
    "                        legend = False, title = 'Permit Checks in Wyoming (1998-2017)')\n",
    "pyplt.xlabel('Period')\n",
    "pyplt.ylabel('Total Checks')\n",
    "pyplt.show()"
   ]
  },
  {
   "cell_type": "markdown",
   "metadata": {},
   "source": [
    "Both plots are neat-looking and versatile. However, matplotlib's suitability seems more worthwhile since it automatically presents the true period labels while making the graph more streamlined and smooth to look at.\n",
    "\n",
    "In case of ggplot, it offers more flexibility and although I haven't shown its full capability in the above cell, for now, ggplot's graphics look more detailed but at the same time more tedious and crowded. It also requires more code to reproduce a plot. The 'Period' axis also shows raw date labels, so that requires some work while matplotlib shows the correct year labels as I had required without additional code.\n",
    "\n",
    "However, both graphs are successful in showing up the trend of permit checks in the state. Checks through all these years have gone up substantially and there is this huge spike around 2012-2013 that makes us ask on why the numbers skyrocketed so much? There is yet another spike around 2015 and then it goes down dramatically. Interesting insights!"
   ]
  },
  {
   "cell_type": "markdown",
   "metadata": {},
   "source": [
    "<a id = 'tests'></a>\n",
    "### Statistical Testing\n",
    "\n",
    "Statistical testing is one of the steps that involves testing the validity of claims and hypothesis through statistical evidences. It is a step that relies on factual evidence and rationale to come to conclusions. Statistical testing is also commonly called hypothesis testing because in this process, certain hypothetical claims are advanced that need to be tested through mathematical formulae (tests) and conclusions be made upon them.\n",
    "\n",
    "These hypothesis are normally called as the null hypothesis and alternative hypothesis. In null hypothesis, a neutral claim is tested out while in alternative hypothesis, an opposite of the null is tested out. Usually denoted as $H_0$ for null hypothesis and $H_a$ for the alternative, several tests according to the size of the data are conducted and commented upon. \n",
    "\n",
    "There are two types of samples, namely small samples that have $n < 30$ and large samples that have $n > 30$. All these samples have some common assumptions that help them in establishing a kind of consistency when it comes to applying some common statistical tests. For example, small and large samples are all assumed to be derived from a common population. And since a population is always normally distributed, it is thus also assumed that the samples will also be normally distributed.\n",
    "\n",
    "Which puts us to the fact that there are two most commonly used tests - the Student's t-test and the z-test. While the former is mostly used with small samples, the z-test is usually a large sample test. There is a twist here; while small sample tests can also be applied to a population, a test designed for a population cannot be used on a sample!\n",
    "\n",
    "For single samples, the t-test is mathematically expressed as $$t = \\frac{\\bar{x} - \\mu_{0}}{s/\\sqrt{n}}$$ While the z-test is almost 99% similar, like so: $$z = \\frac{\\bar{x} - \\mu_{0}}{\\sigma/\\sqrt{n}}$$\n",
    "\n",
    "Where $\\bar{x}$ is the calculated mean, $\\mu_0$ is the hypothetical mean, _s_ pertains to the estimated value of the standard deviation while $\\sigma$ is the calculated standard deviation. The difference is again in just one assumption and that is that the t-test assumes an unknown standard deviation of the distribution and hence an estimated value of it _s_ is used in place of $\\sigma$ which is the case used in the z-test. Since most of our datasets here are large with observations greater than 30, we'll the z-test as much as possible, although the t-test too will suffice."
   ]
  },
  {
   "cell_type": "markdown",
   "metadata": {},
   "source": [
    "Ok, so that's the introduction to statistical hypothesis testing. Now, we can go ahead with conducting a simple hypothesis test. A number of questions can be raised here and appropriate tests be carried out; so let's ask the question if there is a significant difference between the mean values of handgun permit checks in the U.S. and long gun permit checks. In conducting such a test, we'll be able to conclude without going into technical details on whether Americans possess more small arms than long guns."
   ]
  },
  {
   "cell_type": "code",
   "execution_count": 24,
   "metadata": {},
   "outputs": [
    {
     "data": {
      "text/html": [
       "<div>\n",
       "<style scoped>\n",
       "    .dataframe tbody tr th:only-of-type {\n",
       "        vertical-align: middle;\n",
       "    }\n",
       "\n",
       "    .dataframe tbody tr th {\n",
       "        vertical-align: top;\n",
       "    }\n",
       "\n",
       "    .dataframe thead th {\n",
       "        text-align: right;\n",
       "    }\n",
       "</style>\n",
       "<table border=\"1\" class=\"dataframe\">\n",
       "  <thead>\n",
       "    <tr style=\"text-align: right;\">\n",
       "      <th></th>\n",
       "      <th>permit</th>\n",
       "      <th>permit_recheck</th>\n",
       "      <th>handgun</th>\n",
       "      <th>long_gun</th>\n",
       "      <th>other</th>\n",
       "      <th>multiple</th>\n",
       "      <th>admin</th>\n",
       "      <th>Total</th>\n",
       "    </tr>\n",
       "  </thead>\n",
       "  <tbody>\n",
       "    <tr>\n",
       "      <th>count</th>\n",
       "      <td>12485.000000</td>\n",
       "      <td>12485.000000</td>\n",
       "      <td>12485.000000</td>\n",
       "      <td>12485.000000</td>\n",
       "      <td>12485.000000</td>\n",
       "      <td>12485.000000</td>\n",
       "      <td>12485.000000</td>\n",
       "      <td>12485.000000</td>\n",
       "    </tr>\n",
       "    <tr>\n",
       "      <th>mean</th>\n",
       "      <td>6401.300441</td>\n",
       "      <td>102.727433</td>\n",
       "      <td>5931.364277</td>\n",
       "      <td>7798.960833</td>\n",
       "      <td>158.798078</td>\n",
       "      <td>268.603364</td>\n",
       "      <td>58.789588</td>\n",
       "      <td>20720.544013</td>\n",
       "    </tr>\n",
       "    <tr>\n",
       "      <th>std</th>\n",
       "      <td>23731.158830</td>\n",
       "      <td>2756.731662</td>\n",
       "      <td>8614.954626</td>\n",
       "      <td>9307.740581</td>\n",
       "      <td>913.339655</td>\n",
       "      <td>783.185073</td>\n",
       "      <td>604.262697</td>\n",
       "      <td>31900.498258</td>\n",
       "    </tr>\n",
       "    <tr>\n",
       "      <th>min</th>\n",
       "      <td>0.000000</td>\n",
       "      <td>0.000000</td>\n",
       "      <td>0.000000</td>\n",
       "      <td>0.000000</td>\n",
       "      <td>0.000000</td>\n",
       "      <td>0.000000</td>\n",
       "      <td>0.000000</td>\n",
       "      <td>0.000000</td>\n",
       "    </tr>\n",
       "    <tr>\n",
       "      <th>25%</th>\n",
       "      <td>0.000000</td>\n",
       "      <td>0.000000</td>\n",
       "      <td>857.000000</td>\n",
       "      <td>2063.000000</td>\n",
       "      <td>0.000000</td>\n",
       "      <td>15.000000</td>\n",
       "      <td>0.000000</td>\n",
       "      <td>4423.000000</td>\n",
       "    </tr>\n",
       "    <tr>\n",
       "      <th>50%</th>\n",
       "      <td>511.000000</td>\n",
       "      <td>0.000000</td>\n",
       "      <td>3046.000000</td>\n",
       "      <td>5114.000000</td>\n",
       "      <td>0.000000</td>\n",
       "      <td>125.000000</td>\n",
       "      <td>0.000000</td>\n",
       "      <td>11515.000000</td>\n",
       "    </tr>\n",
       "    <tr>\n",
       "      <th>75%</th>\n",
       "      <td>4257.000000</td>\n",
       "      <td>0.000000</td>\n",
       "      <td>7277.000000</td>\n",
       "      <td>10374.000000</td>\n",
       "      <td>89.000000</td>\n",
       "      <td>301.000000</td>\n",
       "      <td>0.000000</td>\n",
       "      <td>24200.000000</td>\n",
       "    </tr>\n",
       "    <tr>\n",
       "      <th>max</th>\n",
       "      <td>522188.000000</td>\n",
       "      <td>116681.000000</td>\n",
       "      <td>107224.000000</td>\n",
       "      <td>108058.000000</td>\n",
       "      <td>77929.000000</td>\n",
       "      <td>38907.000000</td>\n",
       "      <td>28083.000000</td>\n",
       "      <td>537568.000000</td>\n",
       "    </tr>\n",
       "  </tbody>\n",
       "</table>\n",
       "</div>"
      ],
      "text/plain": [
       "              permit  permit_recheck        handgun       long_gun  \\\n",
       "count   12485.000000    12485.000000   12485.000000   12485.000000   \n",
       "mean     6401.300441      102.727433    5931.364277    7798.960833   \n",
       "std     23731.158830     2756.731662    8614.954626    9307.740581   \n",
       "min         0.000000        0.000000       0.000000       0.000000   \n",
       "25%         0.000000        0.000000     857.000000    2063.000000   \n",
       "50%       511.000000        0.000000    3046.000000    5114.000000   \n",
       "75%      4257.000000        0.000000    7277.000000   10374.000000   \n",
       "max    522188.000000   116681.000000  107224.000000  108058.000000   \n",
       "\n",
       "              other      multiple         admin          Total  \n",
       "count  12485.000000  12485.000000  12485.000000   12485.000000  \n",
       "mean     158.798078    268.603364     58.789588   20720.544013  \n",
       "std      913.339655    783.185073    604.262697   31900.498258  \n",
       "min        0.000000      0.000000      0.000000       0.000000  \n",
       "25%        0.000000     15.000000      0.000000    4423.000000  \n",
       "50%        0.000000    125.000000      0.000000   11515.000000  \n",
       "75%       89.000000    301.000000      0.000000   24200.000000  \n",
       "max    77929.000000  38907.000000  28083.000000  537568.000000  "
      ]
     },
     "metadata": {},
     "output_type": "display_data"
    }
   ],
   "source": [
    "# In this cell we test the difference between nationwide permit checks for\n",
    "# handguns and long guns. That is, a simple t-test testing the difference\n",
    "# in means of the two variables.\n",
    "\n",
    "# For this, let's reiterate the statistical descriptions from the permit_data\n",
    "\n",
    "display(permit_data.describe())\n",
    "\n",
    "# Z-tests can be carried out through existing libraries but sometimes\n",
    "# defining own functions is not a bad thing.\n",
    "\n",
    "# Following function infuneced by ideas provided in this post:\n",
    "# https://stats.stackexchange.com/questions/124096/two-samples-z-test-in-python\n",
    "\n",
    "def z_p_vals(bar_x1 , bar_x2, sigma_1, sigma_2, n1, n2, mu = 0):\n",
    "    from numpy import sqrt, abs, round\n",
    "    from scipy.stats import norm\n",
    "    \n",
    "    PooledSD = sqrt((sigma_1**2/n1) + (sigma_2**2/n2))\n",
    "    \n",
    "    z = ((bar_x1 - bar_x2) - mu/PooledSD)\n",
    "    \n",
    "    p = 2*(1 - norm.sf(abs(z)))\n",
    "    \n",
    "    return(round(z, 4), round(p, 4))"
   ]
  },
  {
   "cell_type": "markdown",
   "metadata": {},
   "source": [
    "The above table will help us in noting down the values required by the function I quoted above (courtesy of crossvalidated.com), notably the `std` values for handguns and long guns. These values are $\\sigma_1 = 8615$ and $\\sigma_2 = 9307$. The means are $\\bar{x1} = 5931$ while $\\bar{x2} = 7798$. The $\\mu$ value will remain 0 by default. So, let's formulate our hypothesis.\n",
    "\n",
    "Since we're determining if there is a significant difference between these two weapon types and that if the difference is purely by chance or are they interrelated, our null hypothesis should thus state that \"there is no significant difference between the two\" while the alternative will state that \"there is a significant difference between the two\". Mathematically, these will be written down as $$H_a: x1 = x2$$ $$H_a: x1 \\neq x2$$\n",
    "\n",
    "Now, couple of points need to be listed down when conducting statistical tests. In these testing processes, there are steps that we refer to as 'normalization' and 'standardization'. These steps are in turn referred to as **rescaling of data**. That is, in reaching meaningful results, statisticians make use of values that can really be used in calculation. For example, in our datasets available with us, we're dealing with extremely large values and thus a systematic statistical test cannot really be conducted with these original values.\n",
    "\n",
    "So, what we have are several options. I'm novice in machine learning, but even without it, a statistician needs to rescale some values for a modern computer to be able to calculate since large values gathered in thousands of rows  eventually reduces computing power substantially and in extreme cases, even crash a system. Hence, what people do is they cut down data by randomly selecting values and storing them as rescaled and normalized datasets and then eventually conducting whatever tests that come in mind.\n",
    "\n",
    "In our case too, we have several options to choose from. I can either make a new function that would subset a data frame to the state I specify and then run a z-test on the values after rescaling them (all included in just one single function), or simply randomly select almost half of the values from the original `gun_data`, rescale the values and run tests on them. Let's try running both; in that manner we'll have insights on how states differ from national values."
   ]
  },
  {
   "cell_type": "code",
   "execution_count": 25,
   "metadata": {},
   "outputs": [
    {
     "data": {
      "image/png": "[encoded data removed]",
      "text/plain": [
       "<matplotlib.figure.Figure at 0x1c1ae69358>"
      ]
     },
     "metadata": {},
     "output_type": "display_data"
    },
    {
     "data": {
      "text/plain": [
       "<ggplot: (-9223372029310374270)>"
      ]
     },
     "execution_count": 25,
     "metadata": {},
     "output_type": "execute_result"
    }
   ],
   "source": [
    "# Here I'll conduct a  simple z-test on any one of the state's data.\n",
    "# Let's try on Wyoming.\n",
    "\n",
    "hist_plot = ggplot(wyoming_permit_dat, aes('handgun'))\n",
    "\n",
    "hist_plot + geom_histogram(color = 'blue', alpha = 0.5) + \\\n",
    "    theme_bw() + theme(title = 'Handgun Distribution Plot')"
   ]
  },
  {
   "cell_type": "markdown",
   "metadata": {},
   "source": [
    "Seems more like a skewed distribution but has just some of the characteristics of a normally distributed data. How do long guns compare?"
   ]
  },
  {
   "cell_type": "code",
   "execution_count": 37,
   "metadata": {},
   "outputs": [
    {
     "data": {
      "image/png": "[encoded data removed]",
      "text/plain": [
       "<matplotlib.figure.Figure at 0x1c24fa5128>"
      ]
     },
     "metadata": {},
     "output_type": "display_data"
    }
   ],
   "source": [
    "# Long guns comparison\n",
    "\n",
    "pyplt.hist(wyoming_permit_dat['long_gun'])\n",
    "pyplt.title('Histogram for Wyoming Permit checks')\n",
    "pyplt.xlabel('Value')\n",
    "pyplt.ylabel('Frequency')\n",
    "pyplt.show()\n"
   ]
  },
  {
   "cell_type": "markdown",
   "metadata": {},
   "source": [
    "A much more normal looking distribution I believe. The next step will be to convert these columns into separate arrays for the z-test to work on. Its a simple one-line command."
   ]
  },
  {
   "cell_type": "code",
   "execution_count": 27,
   "metadata": {},
   "outputs": [
    {
     "name": "stdout",
     "output_type": "stream",
     "text": [
      "The z-value comes out to be -12.307463225398111\n",
      "The p-value comes out to be 8.257808982973031e-35\n"
     ]
    }
   ],
   "source": [
    "# Steps to normalize these results:\n",
    "# Convert data to a single column array.\n",
    "# Rehape the array to a single sample\n",
    "# Normalize the results\n",
    "\n",
    "handgun_array = np.array(wyoming_permit_dat['handgun'])\n",
    "\n",
    "long_gun_array = np.array(wyoming_permit_dat['long_gun'])\n",
    "\n",
    "z, p = wtests.ztest(handgun_array, long_gun_array)\n",
    "\n",
    "print(\"The z-value comes out to be {}\".format(z))\n",
    "\n",
    "print(\"The p-value comes out to be {}\".format(p))"
   ]
  },
  {
   "cell_type": "markdown",
   "metadata": {},
   "source": [
    "Ok. So, the overall z-score is a minor -12.3074 with a p-value so small that it hardly even matters at all. And the p-value is the most important here since that gives us the idea of which hypothesis to accept. Generaly, there are three interpretations of a p-value:\n",
    "1. A value less than 0.5 indicating notion against the alternative.\n",
    "2. A value more than 0.5 indicating acceptance of the null.\n",
    "3. A value lying at 0.5 that could mean the hypothesis could go either way.\n",
    "\n",
    "Here, we have a p-value that has almost 35 zeros before a digit. That is, 0.8257 with 45 zeros after the point! Since such a number is almost zero, we thus accept the alternative hypothesis. Hence, as the z-score additionally supports this, there is significant difference between in the mean values of small and long arms in Wyoming state and people seem to buy more long guns than small arms as the differences in real values suggest.\n",
    "\n",
    "In fact, we can have the code above parsed in a single function that would print histograms as well as print out the z-score and p-values for any data we specify."
   ]
  },
  {
   "cell_type": "code",
   "execution_count": 50,
   "metadata": {},
   "outputs": [],
   "source": [
    "# This will print out everything in just one command\n",
    "\n",
    "def z_p_scores(data):\n",
    "    \"\"\"\n",
    "    This function takes in a dataframe and coverts some of its\n",
    "    coluns into numpy arrays, plots histograms for them and\n",
    "    returns combined z-score and p-values for those arrays.\n",
    "    ========\n",
    "    Parameters:\n",
    "    \n",
    "    data = a pandas data frame\n",
    "    \"\"\"\n",
    "    array_1 = []\n",
    "    array_2 = []\n",
    "    \n",
    "    import random\n",
    "    \n",
    "    # Extract columns and covert to arrays\n",
    "    array_1 = np.array(data['handgun'])\n",
    "    random.shuffle(array_1)\n",
    "    \n",
    "    array_2 = np.array(data['long_gun'])\n",
    "    random.shuffle(array_2)\n",
    "    \n",
    "    \n",
    "    # Plot histograms\n",
    "    pyplt.hist(array_1, bins = 50, normed = True)\n",
    "    \n",
    "    pyplt.hist(array_2, bins = 50, normed = True)\n",
    "    \n",
    "    \n",
    "    # Plot legend and lables\n",
    "    pyplt.legend(['hand guns', 'long guns'])\n",
    "    pyplt.xlabel('Value')\n",
    "    pyplt.ylabel('Frequency')\n",
    "    pyplt.title('Histogram for Handguns and Long Guns')\n",
    "    \n",
    "    # Return z and p scores\n",
    "    z, p = wtests.ztest(array_1, array_2)\n",
    "    \n",
    "    print(\"The z-value comes out to be {}\".format(z))\n",
    "\n",
    "    print(\"The p-value comes out to be {}\".format(p))\n",
    "    "
   ]
  },
  {
   "cell_type": "code",
   "execution_count": 51,
   "metadata": {},
   "outputs": [
    {
     "name": "stdout",
     "output_type": "stream",
     "text": [
      "The z-value comes out to be -0.10574618793191333\n",
      "The p-value comes out to be 0.9157837330978279\n"
     ]
    },
    {
     "data": {
      "image/png": "[encoded data removed]",
      "text/plain": [
       "<matplotlib.figure.Figure at 0x1c24fbdd68>"
      ]
     },
     "metadata": {},
     "output_type": "display_data"
    }
   ],
   "source": [
    "# Let's try this on California\n",
    "\n",
    "california_dat = permit_data[permit_data.state == 'California']\n",
    "\n",
    "z_p_scores(california_dat)"
   ]
  },
  {
   "cell_type": "markdown",
   "metadata": {},
   "source": [
    "Those are great results and as expected. The simple function I wrote above thus provides the researcher a one line command that will show everything related to a z-score for a distribution, including a histogram plot containing histograms for two columns. This function can now be run on any data frame but the only requirement will be a data frame that hs a limited number of observations. The z-test provided by the `statsmodels` module is limited to run on only a specific number of rows, since its unable to compute the value on computationally intensive datasets, so its always a nice thing in general to divide data frames into n-equal datasets before extracting results.\n",
    "\n",
    "Let's test this out again on the state of Arizona."
   ]
  },
  {
   "cell_type": "code",
   "execution_count": 52,
   "metadata": {},
   "outputs": [
    {
     "name": "stdout",
     "output_type": "stream",
     "text": [
      "The z-value comes out to be 4.74511322317176\n",
      "The p-value comes out to be 2.0838973964641964e-06\n"
     ]
    },
    {
     "data": {
      "image/png": "[encoded data removed]",
      "text/plain": [
       "<matplotlib.figure.Figure at 0x1c2509e940>"
      ]
     },
     "metadata": {},
     "output_type": "display_data"
    }
   ],
   "source": [
    "# Separate out Arizona\n",
    "\n",
    "arizona_dat = permit_data[permit_data.state == 'Arizona']\n",
    "\n",
    "# Run the function\n",
    "\n",
    "z_p_scores(arizona_dat)"
   ]
  },
  {
   "cell_type": "markdown",
   "metadata": {},
   "source": [
    "It's interesting how these statistics differ state-wise. In Arizona too, similar patterns are observed for both weapon categories. A value of 4.7451 yet again suggests a significant score; add to it the small p-value we found again, and one can be sure to again reject the null hypothesis that there is no difference in permit patterns for both weapon categories. As the plot above tells us, at some point of time, probably during the time of economic depression at earlier periods of this decade, people tended to buy more small arms and hence a more blue colour to the righter side of the plot.\n",
    "\n",
    "In this manner, we can get results for all the remaining states and average out the results to extract on what I believe should be an accurate representation of the nation; since conducting these z-tests on large data frames is impossible with these dependencies loaded. As an additional primer, here's the results for Wyoming state, without the discrete lines."
   ]
  },
  {
   "cell_type": "code",
   "execution_count": 53,
   "metadata": {},
   "outputs": [
    {
     "name": "stdout",
     "output_type": "stream",
     "text": [
      "The z-value comes out to be -12.30746322539811\n",
      "The p-value comes out to be 8.257808982973031e-35\n"
     ]
    },
    {
     "data": {
      "image/png": "[encoded data removed]",
      "text/plain": [
       "<matplotlib.figure.Figure at 0x1c24e4a668>"
      ]
     },
     "metadata": {},
     "output_type": "display_data"
    }
   ],
   "source": [
    "# Wyoming State\n",
    "\n",
    "z_p_scores(wyoming_permit_dat)"
   ]
  },
  {
   "cell_type": "code",
   "execution_count": 54,
   "metadata": {},
   "outputs": [
    {
     "name": "stdout",
     "output_type": "stream",
     "text": [
      "The z-value comes out to be -3.4466735724566604\n",
      "The p-value comes out to be 0.0005675338638824006\n"
     ]
    },
    {
     "data": {
      "image/png": "[encoded data removed]",
      "text/plain": [
       "<matplotlib.figure.Figure at 0x1c25208128>"
      ]
     },
     "metadata": {},
     "output_type": "display_data"
    }
   ],
   "source": [
    "# Texas state\n",
    "\n",
    "texas_dat = permit_data[permit_data.state == 'Texas']\n",
    "\n",
    "z_p_scores(texas_dat)"
   ]
  },
  {
   "cell_type": "markdown",
   "metadata": {},
   "source": [
    "<a id = 'conclusion'></a>\n",
    "## Conclusion\n",
    "\n",
    "For the questions answered so far, and the questions raised, it was concluded that NICS has recorded an increasing rate of permit checks throughout the nation. There were general seasonal trends observed with some periods recording sharp spikes in important statistics. Its intriguing to note on what possibly caused such sharp spikes in an otherwise more-or-less consistent data.\n",
    "\n",
    "Strangely, post 2013, there seems to be a decrease in the statistics as well. Since I'm not an American national and owing to lack of domestic American affairs, I cannot clearly state the reasons behind such trends but this suggests that states have either passed additional laws to limit weapon ownership and also develop enforcement infrastructure further, leading to a decreased record of checks and hence weapon sales. However, some huge spikes around the turn of this decade still remain mysterious.\n",
    "\n",
    "It was also concluded that data are inconsistent across states. As can be seen above, the state of Wyoming records more handguns than long guns and there seems to be vast difference between their averages. Meanwhile, states like California and Arizona record almost consistent weapon checks on both categories of arms.\n",
    "\n",
    "However, like every other data available through any source, there are limitations bound to exist. In the datasets available to us, there were several of them, like so:\n",
    "- The existence of many, even thousands of NA values. Inconsistency in a dataset's values reduces its overall quality and in cases where NaN values are in high degrees, false results are bound to found. In addition, dealing with such values does not fully eliminate the problem of accuracy since there are several ways in dealing with such instances and not every solution can take away the obstruction of inaccurate data. In most cases, research needs to be done on the pattern of values that can be filled in NaN cells and then proceeded.\n",
    "\n",
    "- Inconsistency in data recording. Like the [source](# https://github.com/BuzzFeedNews/nics-firearm-background-checks/blob/master/README.md) of the data itself quotes down, there are inconsistencies in the data because of several factors such as differing state laws and inconsistent records for permit checks during the onset of the NICS system from state-to-state. In addition, the difference in state laws' and their overall method of operation prevented lots of data being recorded. One example is that observed for California where authorities themselves noted that due to factors differing from the ones required by NICS, several permit checks went unrecorded. These are instances that bury the true overall picture of an analysis.\n",
    "\n",
    "- The availability of census data with this data kit is in my belief an uncalled thing for it establishes no solid relationship between what we under the `gun_data` and `census`. Sure, a number of insights too can be extracted through the census but that will require more research while the existing layout of the `census` disables one to establish meaningful results in connection with `gun_data`. This will require several steps of cleaning and file-merging to extract insights.\n",
    "\n",
    "This concludes the firearms analysis. Hoping it offered a valuable purpose."
   ]
  },
  {
   "cell_type": "code",
   "execution_count": 55,
   "metadata": {},
   "outputs": [
    {
     "data": {
      "text/plain": [
       "0"
      ]
     },
     "execution_count": 55,
     "metadata": {},
     "output_type": "execute_result"
    }
   ],
   "source": [
    "from subprocess import call\n",
    "call(['python', '-m', 'nbconvert', 'Firearms_analysis.ipynb'])"
   ]
  }
 ],
 "metadata": {
  "kernelspec": {
   "display_name": "Python [conda root]",
   "language": "python",
   "name": "conda-root-py"
  },
  "language_info": {
   "codemirror_mode": {
    "name": "ipython",
    "version": 3
   },
   "file_extension": ".py",
   "mimetype": "text/x-python",
   "name": "python",
   "nbconvert_exporter": "python",
   "pygments_lexer": "ipython3",
   "version": "3.6.4"
  },
  "nbpresent": {
   "slides": {},
   "themes": {
    "default": "58c2a773-cbdb-467e-b619-ae3733a357f8",
    "theme": {
     "58c2a773-cbdb-467e-b619-ae3733a357f8": {
      "backgrounds": {
       "dc7afa04-bf90-40b1-82a5-726e3cff5267": {
        "background-color": "31af15d2-7e15-44c5-ab5e-e04b16a89eff",
        "id": "dc7afa04-bf90-40b1-82a5-726e3cff5267"
       }
      },
      "id": "58c2a773-cbdb-467e-b619-ae3733a357f8",
      "palette": {
       "19cc588f-0593-49c9-9f4b-e4d7cc113b1c": {
        "id": "19cc588f-0593-49c9-9f4b-e4d7cc113b1c",
        "rgb": [
         252,
         252,
         252
        ]
       },
       "31af15d2-7e15-44c5-ab5e-e04b16a89eff": {
        "id": "31af15d2-7e15-44c5-ab5e-e04b16a89eff",
        "rgb": [
         68,
         68,
         68
        ]
       },
       "50f92c45-a630-455b-aec3-788680ec7410": {
        "id": "50f92c45-a630-455b-aec3-788680ec7410",
        "rgb": [
         197,
         226,
         245
        ]
       },
       "c5cc3653-2ee1-402a-aba2-7caae1da4f6c": {
        "id": "c5cc3653-2ee1-402a-aba2-7caae1da4f6c",
        "rgb": [
         43,
         126,
         184
        ]
       },
       "efa7f048-9acb-414c-8b04-a26811511a21": {
        "id": "efa7f048-9acb-414c-8b04-a26811511a21",
        "rgb": [
         25.118061674008803,
         73.60176211453744,
         107.4819383259912
        ]
       }
      },
      "rules": {
       "a": {
        "color": "19cc588f-0593-49c9-9f4b-e4d7cc113b1c"
       },
       "blockquote": {
        "color": "50f92c45-a630-455b-aec3-788680ec7410",
        "font-size": 3
       },
       "code": {
        "font-family": "Anonymous Pro"
       },
       "h1": {
        "color": "19cc588f-0593-49c9-9f4b-e4d7cc113b1c",
        "font-family": "Merriweather",
        "font-size": 8
       },
       "h2": {
        "color": "19cc588f-0593-49c9-9f4b-e4d7cc113b1c",
        "font-family": "Merriweather",
        "font-size": 6
       },
       "h3": {
        "color": "50f92c45-a630-455b-aec3-788680ec7410",
        "font-family": "Lato",
        "font-size": 5.5
       },
       "h4": {
        "color": "c5cc3653-2ee1-402a-aba2-7caae1da4f6c",
        "font-family": "Lato",
        "font-size": 5
       },
       "h5": {
        "font-family": "Lato"
       },
       "h6": {
        "font-family": "Lato"
       },
       "h7": {
        "font-family": "Lato"
       },
       "li": {
        "color": "50f92c45-a630-455b-aec3-788680ec7410",
        "font-size": 3.25
       },
       "pre": {
        "font-family": "Anonymous Pro",
        "font-size": 4
       }
      },
      "text-base": {
       "color": "19cc588f-0593-49c9-9f4b-e4d7cc113b1c",
       "font-family": "Lato",
       "font-size": 4
      }
     },
     "61f9faee-f920-4141-b7cb-150cba337ff9": {
      "backgrounds": {
       "dc7afa04-bf90-40b1-82a5-726e3cff5267": {
        "background-color": "31af15d2-7e15-44c5-ab5e-e04b16a89eff",
        "id": "dc7afa04-bf90-40b1-82a5-726e3cff5267"
       }
      },
      "id": "61f9faee-f920-4141-b7cb-150cba337ff9",
      "palette": {
       "19cc588f-0593-49c9-9f4b-e4d7cc113b1c": {
        "id": "19cc588f-0593-49c9-9f4b-e4d7cc113b1c",
        "rgb": [
         252,
         252,
         252
        ]
       },
       "31af15d2-7e15-44c5-ab5e-e04b16a89eff": {
        "id": "31af15d2-7e15-44c5-ab5e-e04b16a89eff",
        "rgb": [
         68,
         68,
         68
        ]
       },
       "50f92c45-a630-455b-aec3-788680ec7410": {
        "id": "50f92c45-a630-455b-aec3-788680ec7410",
        "rgb": [
         197,
         226,
         245
        ]
       },
       "c5cc3653-2ee1-402a-aba2-7caae1da4f6c": {
        "id": "c5cc3653-2ee1-402a-aba2-7caae1da4f6c",
        "rgb": [
         43,
         126,
         184
        ]
       },
       "efa7f048-9acb-414c-8b04-a26811511a21": {
        "id": "efa7f048-9acb-414c-8b04-a26811511a21",
        "rgb": [
         25.118061674008803,
         73.60176211453744,
         107.4819383259912
        ]
       }
      },
      "rules": {
       "a": {
        "color": "19cc588f-0593-49c9-9f4b-e4d7cc113b1c"
       },
       "blockquote": {
        "color": "50f92c45-a630-455b-aec3-788680ec7410",
        "font-size": 3
       },
       "code": {
        "font-family": "Anonymous Pro"
       },
       "h1": {
        "color": "19cc588f-0593-49c9-9f4b-e4d7cc113b1c",
        "font-family": "Merriweather",
        "font-size": 8
       },
       "h2": {
        "color": "19cc588f-0593-49c9-9f4b-e4d7cc113b1c",
        "font-family": "Merriweather",
        "font-size": 6
       },
       "h3": {
        "color": "50f92c45-a630-455b-aec3-788680ec7410",
        "font-family": "Lato",
        "font-size": 5.5
       },
       "h4": {
        "color": "c5cc3653-2ee1-402a-aba2-7caae1da4f6c",
        "font-family": "Lato",
        "font-size": 5
       },
       "h5": {
        "font-family": "Lato"
       },
       "h6": {
        "font-family": "Lato"
       },
       "h7": {
        "font-family": "Lato"
       },
       "li": {
        "color": "50f92c45-a630-455b-aec3-788680ec7410",
        "font-size": 3.25
       },
       "pre": {
        "font-family": "Anonymous Pro",
        "font-size": 4
       }
      },
      "text-base": {
       "color": "19cc588f-0593-49c9-9f4b-e4d7cc113b1c",
       "font-family": "Lato",
       "font-size": 4
      }
     },
     "963e9bce-f2a2-47dd-b187-69525698f23b": {
      "backgrounds": {
       "dc7afa04-bf90-40b1-82a5-726e3cff5267": {
        "background-color": "31af15d2-7e15-44c5-ab5e-e04b16a89eff",
        "id": "dc7afa04-bf90-40b1-82a5-726e3cff5267"
       }
      },
      "id": "963e9bce-f2a2-47dd-b187-69525698f23b",
      "palette": {
       "19cc588f-0593-49c9-9f4b-e4d7cc113b1c": {
        "id": "19cc588f-0593-49c9-9f4b-e4d7cc113b1c",
        "rgb": [
         252,
         252,
         252
        ]
       },
       "31af15d2-7e15-44c5-ab5e-e04b16a89eff": {
        "id": "31af15d2-7e15-44c5-ab5e-e04b16a89eff",
        "rgb": [
         68,
         68,
         68
        ]
       },
       "50f92c45-a630-455b-aec3-788680ec7410": {
        "id": "50f92c45-a630-455b-aec3-788680ec7410",
        "rgb": [
         197,
         226,
         245
        ]
       },
       "c5cc3653-2ee1-402a-aba2-7caae1da4f6c": {
        "id": "c5cc3653-2ee1-402a-aba2-7caae1da4f6c",
        "rgb": [
         43,
         126,
         184
        ]
       },
       "efa7f048-9acb-414c-8b04-a26811511a21": {
        "id": "efa7f048-9acb-414c-8b04-a26811511a21",
        "rgb": [
         25.118061674008803,
         73.60176211453744,
         107.4819383259912
        ]
       }
      },
      "rules": {
       "a": {
        "color": "19cc588f-0593-49c9-9f4b-e4d7cc113b1c"
       },
       "blockquote": {
        "color": "50f92c45-a630-455b-aec3-788680ec7410",
        "font-size": 3
       },
       "code": {
        "font-family": "Anonymous Pro"
       },
       "h1": {
        "color": "19cc588f-0593-49c9-9f4b-e4d7cc113b1c",
        "font-family": "Merriweather",
        "font-size": 8
       },
       "h2": {
        "color": "19cc588f-0593-49c9-9f4b-e4d7cc113b1c",
        "font-family": "Merriweather",
        "font-size": 6
       },
       "h3": {
        "color": "50f92c45-a630-455b-aec3-788680ec7410",
        "font-family": "Lato",
        "font-size": 5.5
       },
       "h4": {
        "color": "c5cc3653-2ee1-402a-aba2-7caae1da4f6c",
        "font-family": "Lato",
        "font-size": 5
       },
       "h5": {
        "font-family": "Lato"
       },
       "h6": {
        "font-family": "Lato"
       },
       "h7": {
        "font-family": "Lato"
       },
       "li": {
        "color": "50f92c45-a630-455b-aec3-788680ec7410",
        "font-size": 3.25
       },
       "pre": {
        "font-family": "Anonymous Pro",
        "font-size": 4
       }
      },
      "text-base": {
       "color": "19cc588f-0593-49c9-9f4b-e4d7cc113b1c",
       "font-family": "Lato",
       "font-size": 4
      }
     },
     "c9686368-5b98-4070-9c71-4914f7725497": {
      "backgrounds": {
       "dc7afa04-bf90-40b1-82a5-726e3cff5267": {
        "background-color": "31af15d2-7e15-44c5-ab5e-e04b16a89eff",
        "id": "dc7afa04-bf90-40b1-82a5-726e3cff5267"
       }
      },
      "id": "c9686368-5b98-4070-9c71-4914f7725497",
      "palette": {
       "19cc588f-0593-49c9-9f4b-e4d7cc113b1c": {
        "id": "19cc588f-0593-49c9-9f4b-e4d7cc113b1c",
        "rgb": [
         252,
         252,
         252
        ]
       },
       "31af15d2-7e15-44c5-ab5e-e04b16a89eff": {
        "id": "31af15d2-7e15-44c5-ab5e-e04b16a89eff",
        "rgb": [
         68,
         68,
         68
        ]
       },
       "50f92c45-a630-455b-aec3-788680ec7410": {
        "id": "50f92c45-a630-455b-aec3-788680ec7410",
        "rgb": [
         197,
         226,
         245
        ]
       },
       "c5cc3653-2ee1-402a-aba2-7caae1da4f6c": {
        "id": "c5cc3653-2ee1-402a-aba2-7caae1da4f6c",
        "rgb": [
         43,
         126,
         184
        ]
       },
       "efa7f048-9acb-414c-8b04-a26811511a21": {
        "id": "efa7f048-9acb-414c-8b04-a26811511a21",
        "rgb": [
         25.118061674008803,
         73.60176211453744,
         107.4819383259912
        ]
       }
      },
      "rules": {
       "a": {
        "color": "19cc588f-0593-49c9-9f4b-e4d7cc113b1c"
       },
       "blockquote": {
        "color": "50f92c45-a630-455b-aec3-788680ec7410",
        "font-size": 3
       },
       "code": {
        "font-family": "Anonymous Pro"
       },
       "h1": {
        "color": "19cc588f-0593-49c9-9f4b-e4d7cc113b1c",
        "font-family": "Merriweather",
        "font-size": 8
       },
       "h2": {
        "color": "19cc588f-0593-49c9-9f4b-e4d7cc113b1c",
        "font-family": "Merriweather",
        "font-size": 6
       },
       "h3": {
        "color": "50f92c45-a630-455b-aec3-788680ec7410",
        "font-family": "Lato",
        "font-size": 5.5
       },
       "h4": {
        "color": "c5cc3653-2ee1-402a-aba2-7caae1da4f6c",
        "font-family": "Lato",
        "font-size": 5
       },
       "h5": {
        "font-family": "Lato"
       },
       "h6": {
        "font-family": "Lato"
       },
       "h7": {
        "font-family": "Lato"
       },
       "li": {
        "color": "50f92c45-a630-455b-aec3-788680ec7410",
        "font-size": 3.25
       },
       "pre": {
        "font-family": "Anonymous Pro",
        "font-size": 4
       }
      },
      "text-base": {
       "color": "19cc588f-0593-49c9-9f4b-e4d7cc113b1c",
       "font-family": "Lato",
       "font-size": 4
      }
     }
    }
   }
  }
 },
 "nbformat": 4,
 "nbformat_minor": 2
}
